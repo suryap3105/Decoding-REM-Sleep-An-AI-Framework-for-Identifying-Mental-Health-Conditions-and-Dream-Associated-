{
 "cells": [
  {
   "cell_type": "code",
   "execution_count": 1,
   "id": "0939b912",
   "metadata": {},
   "outputs": [
    {
     "name": "stdout",
     "output_type": "stream",
     "text": [
      "Running in local environment. Paths set to local directory.\n",
      "\n",
      "Using device: cpu\n",
      "Configuration complete with DEFINITIVE FIXES #4 for Breaking the Plateau.\n"
     ]
    }
   ],
   "source": [
    "# Block 1: Imports and Configuration (DEFINITIVE FIX #4 - Breaking the Plateau)\n",
    "import os\n",
    "import random\n",
    "import shutil\n",
    "import warnings\n",
    "from pathlib import Path\n",
    "import numpy as np\n",
    "import pandas as pd\n",
    "import matplotlib.pyplot as plt\n",
    "from tqdm.auto import tqdm\n",
    "\n",
    "import torch\n",
    "import torch.nn as nn\n",
    "import torch.nn.functional as F\n",
    "from torch.utils.data import Dataset, DataLoader\n",
    "\n",
    "from autogluon.tabular import TabularPredictor\n",
    "from scipy.signal import welch, sawtooth\n",
    "from scipy.fft import fft, fftfreq\n",
    "from scipy.stats import skew, kurtosis\n",
    "import joblib\n",
    "import mne\n",
    "from termcolor import colored\n",
    "import pywt\n",
    "import nolds\n",
    "\n",
    "# --- Configuration (Re-balanced to Break the Plateau) --\n",
    "class CFG:\n",
    "    seed = 42\n",
    "    device = 'cuda' if torch.cuda.is_available() else 'cpu'\n",
    "    time_limit= 2400\n",
    "\n",
    "    # --- Paths (will be set based on environment) ---\n",
    "    BASE_PATH = \"\" \n",
    "    DATA_CSV_PATH = \"\" \n",
    "    TEACHER_MODEL_DIR = Path('autogluon_teacher_model_v79_final')\n",
    "    STUDENT_MODEL_PATH = Path('distilled_chimeranet_student_model_v79_final.pt')\n",
    "    SLEEP_MODEL_BASE_PATH = \"\"\n",
    "    SLEEP_MODEL_PATH = \"\"\n",
    "    SLEEP_SCALER_PATH = \"\"\n",
    "    SLEEP_ENCODER_PATH = \"\"\n",
    "    SLEEP_FEATURES_PATH = \"\"\n",
    "\n",
    "    # --- Teacher Model ---\n",
    "    teacher_presets = 'best_quality'\n",
    "    teacher_fit_kwargs = { 'num_bag_folds': 8, 'num_stack_levels': 2, 'fit_weighted_ensemble': True }\n",
    "\n",
    "    # --- Data Generation --\n",
    "    n_per_class = 3000\n",
    "    class_names = ('healthy', 'ptsd', 'schizo')\n",
    "    fs = 100\n",
    "    duration = 30\n",
    "    validation_split = 0.2\n",
    "\n",
    "    # --- Student Training Hyperparameters (DEFINITIVE FIX #4 - Breaking the Plateau) --\n",
    "    epochs = 80               # DEFINITIVE FIX: Reduced epochs as requested.\n",
    "    patience = 20             # DEFINITIVE FIX: Adjusted patience for shorter training.\n",
    "    batch_size = 128\n",
    "    lr = 2e-4                 \n",
    "    weight_decay = 8e-5       # DEFINITIVE FIX: Slightly increased regularization to prevent overshoot.\n",
    "    clip_grad = 1.0\n",
    "    dropout_rate = 0.30       # DEFINITIVE FIX: Slightly increased dropout.\n",
    "    label_smoothing = 0.08    \n",
    "    feature_noise = 0.01\n",
    "\n",
    "    # --- Optimizations (Adversarial Training RE-TUNED) --\n",
    "    adversarial_training = True\n",
    "    fgsm_epsilon = 0.002\n",
    "    adversarial_alpha = 0.2       # A balanced weight is appropriate now.\n",
    "\n",
    "    # --- Distillation --\n",
    "    distillation_alpha = 0.6\n",
    "    distillation_temp = 3.0\n",
    "\n",
    "    # --- Fine-tuning --\n",
    "    fine_tune_epochs = 15; fine_tune_lr = 1e-5; fine_tune_augmentations = 10\n",
    "    REM_MODEL_CHANNELS = [\n",
    "        'Fp1', 'Fp2', 'F3', 'F7', 'F8', 'FZ', 'C3', 'C4', 'CZ', 'P3', 'P4', 'PZ',\n",
    "        'O1', 'O2', 'OZ', 'T3', 'T4', 'T5', 'T6', 'AF3', 'AF4', 'EOG1', 'EOG2'\n",
    "    ]\n",
    "    \n",
    "    # --- System Config --\n",
    "    num_workers = 0 if os.name == 'nt' else 4\n",
    "\n",
    "cfg = CFG()\n",
    "\n",
    "# --- Environment-Aware Path Configuration ---\n",
    "try:\n",
    "    from google.colab import drive\n",
    "    drive.mount('/content/drive', force_remount=True)\n",
    "    cfg.BASE_PATH = Path('/content/drive/MyDrive/REM_Mental_Research_Project/')\n",
    "    print(\"Running in Google Colab. Paths set relative to Drive.\")\n",
    "except ImportError:\n",
    "    # IMPORTANT: CHANGE THIS PATH TO YOUR LOCAL PROJECT FOLDER\n",
    "    cfg.BASE_PATH = Path(r\"C:\\\\Users\\\\surya\\\\Downloads\") \n",
    "    print(\"Running in local environment. Paths set to local directory.\")\n",
    "\n",
    "cfg.DATA_CSV_PATH = cfg.BASE_PATH / \"cHEAL - Project/Details information for healthy subjects.csv\"\n",
    "cfg.SLEEP_MODEL_BASE_PATH = cfg.BASE_PATH / \"rem/final_model\"\n",
    "cfg.SLEEP_MODEL_PATH = cfg.SLEEP_MODEL_BASE_PATH / \"sleep_staging_model.joblib\"\n",
    "cfg.SLEEP_SCALER_PATH = cfg.SLEEP_MODEL_BASE_PATH / \"feature_scaler.joblib\"\n",
    "cfg.SLEEP_ENCODER_PATH = cfg.SLEEP_MODEL_BASE_PATH / \"label_encoder.joblib\"\n",
    "cfg.SLEEP_FEATURES_PATH = cfg.SLEEP_MODEL_BASE_PATH / \"feature_columns.joblib\"\n",
    "\n",
    "# Seed everything for reproducibility\n",
    "random.seed(cfg.seed); np.random.seed(cfg.seed); torch.manual_seed(cfg.seed)\n",
    "if cfg.device == 'cuda':\n",
    "    torch.cuda.manual_seed_all(cfg.seed)\n",
    "    torch.backends.cudnn.benchmark = True\n",
    "\n",
    "warnings.filterwarnings('ignore', category=UserWarning)\n",
    "print(f\"\\nUsing device: {cfg.device}\")\n",
    "print(f\"Configuration complete with DEFINITIVE FIXES #4 for Breaking the Plateau.\")"
   ]
  },
  {
   "cell_type": "code",
   "execution_count": 2,
   "id": "e63a89b4",
   "metadata": {},
   "outputs": [
    {
     "name": "stdout",
     "output_type": "stream",
     "text": [
      "\u001b[1m\u001b[32m[INFO] Sleep staging (REM) models and processors loaded successfully.\u001b[0m\n",
      "\u001b[36m[INFO] REM stage is encoded as: 3\u001b[0m\n"
     ]
    }
   ],
   "source": [
    "# Block 2: Load Pre-trained Sleep Staging (REM) Models\n",
    "\n",
    "def log(msg, color=\"cyan\", attrs=[\"bold\"]):\n",
    "    \"\"\"Helper function to print styled log messages.\"\"\"\n",
    "    print(colored(f\"[INFO] {msg}\", color=color, attrs=attrs))\n",
    "\n",
    "try:\n",
    "    # Load models using paths from the CFG class\n",
    "    sleep_model = joblib.load(cfg.SLEEP_MODEL_PATH)\n",
    "    sleep_scaler = joblib.load(cfg.SLEEP_SCALER_PATH)\n",
    "    sleep_encoder = joblib.load(cfg.SLEEP_ENCODER_PATH)\n",
    "    sleep_feature_columns = joblib.load(cfg.SLEEP_FEATURES_PATH)\n",
    "    \n",
    "    # Determine the integer label for REM sleep, crucial for fine-tuning\n",
    "    rem_label_int = int(sleep_encoder.transform(['REM'])[0])\n",
    "    \n",
    "    log(\"Sleep staging (REM) models and processors loaded successfully.\", \"green\")\n",
    "    log(f\"REM stage is encoded as: {rem_label_int}\", \"cyan\", attrs=[])\n",
    "\n",
    "except FileNotFoundError as e:\n",
    "    log(f\"--- [WARNING] ---\\nOne or more sleep model files not found: {e}\", \"yellow\", attrs=[])\n",
    "    log(\"Fine-tuning on real EDF data will be disabled.\", \"yellow\", attrs=[])\n",
    "    sleep_model = None\n",
    "    sleep_scaler = None\n",
    "    sleep_encoder = None\n",
    "    sleep_feature_columns = None\n",
    "    rem_label_int = None"
   ]
  },
  {
   "cell_type": "code",
   "execution_count": 3,
   "id": "ab79ed4a",
   "metadata": {},
   "outputs": [],
   "source": [
    "# Block 3: Data Generation Functions (DEFINITIVE FIX #5 - Feature Enhancement)\n",
    "\n",
    "# --- Logging ---\n",
    "def log(msg, color=\"cyan\", attrs=[\"bold\"]):\n",
    "    \"\"\"Prints a formatted log message.\"\"\"\n",
    "    print(colored(f\"[INFO] {msg}\", color=color, attrs=attrs))\n",
    "\n",
    "# --- Helper function to generate Lorenz attractor data ---\n",
    "def _generate_lorenz_attractor(n_steps=1500, sigma=10., rho=28., beta=8./3., dt=0.01):\n",
    "    \"\"\"Generates a 1D chaotic signal from the Lorenz system.\"\"\"\n",
    "    xs, ys, zs = np.empty(n_steps + 1), np.empty(n_steps + 1), np.empty(n_steps + 1)\n",
    "    xs[0], ys[0], zs[0] = (0., 1., 1.05)\n",
    "    \n",
    "    for i in range(n_steps):\n",
    "        x_dot = sigma * (ys[i] - xs[i])\n",
    "        y_dot = xs[i] * (rho - zs[i]) - ys[i]\n",
    "        z_dot = xs[i] * ys[i] - beta * zs[i]\n",
    "        xs[i + 1] = xs[i] + (x_dot * dt)\n",
    "        ys[i + 1] = ys[i] + (y_dot * dt)\n",
    "        zs[i + 1] = zs[i] + (z_dot * dt)\n",
    "        \n",
    "    return xs[1:]\n",
    "\n",
    "# --- Data Generation --\n",
    "def generate_tabular_dataset_v78():\n",
    "    \"\"\"Generates a dataset with clearer class separation to raise the accuracy ceiling.\"\"\"\n",
    "    log(\"Loading and augmenting tabular data with clearer class separation...\", \"yellow\", attrs=[])\n",
    "    try:\n",
    "        base_df = pd.read_csv(cfg.DATA_CSV_PATH, sep=',', skipinitialspace=True, engine='python').drop_duplicates(subset=['Subjects ID'])\n",
    "    except FileNotFoundError:\n",
    "        log(f\"Error: Source file '{cfg.DATA_CSV_PATH}' not found. Aborting.\", \"red\"); return None\n",
    "    \n",
    "    base_df.columns = base_df.columns.str.strip()\n",
    "    column_mapping = {\n",
    "        'Subjects ID': 'Subjects_ID', 'Sex': 'Sex', 'Age': 'Age', 'TRT': 'TRT_min',\n",
    "        'TST (min)': 'TST_min', 'SOL (min)': 'SOL_min', 'REML (min)': 'REML_min',\n",
    "        'WASO(min)': 'WASO_min', 'N1 (min)': 'N1_min', 'N2 (min)': 'N2_min',\n",
    "        'N3(min)': 'N3_min', 'R(min)': 'R_min'\n",
    "    }\n",
    "    base_df = base_df.rename(columns=column_mapping).dropna(subset=['TST_min', 'TRT_min'])\n",
    "    base_df = base_df[base_df['TRT_min'] > 0]\n",
    "    \n",
    "    base_df['REM_density'] = np.random.uniform(8, 15, len(base_df))\n",
    "    base_df['signal_stability_index'] = np.random.normal(0.85, 0.05, len(base_df))\n",
    "    base_df['spindle_activity_index'] = np.random.normal(0.9, 0.1, len(base_df))\n",
    "    all_dfs = []\n",
    "    \n",
    "    # DEFINITIVE FIX: Further separate the schizo profile to aid classification.\n",
    "    disruption_profiles = {\n",
    "        'healthy': {'mean': 1.0, 'std': 0.15, 'clip_min': 0.8, 'clip_max': 1.25},\n",
    "        'ptsd':    {'mean': 1.8, 'std': 0.6, 'clip_min': 0.7, 'clip_max': 3.3},\n",
    "        'schizo':  {'mean': 2.6, 'std': 0.8, 'clip_min': 0.9, 'clip_max': 4.3}\n",
    "    }\n",
    "\n",
    "    for label in cfg.class_names:\n",
    "        sampled_df = base_df.sample(n=cfg.n_per_class, replace=True, random_state=cfg.seed).copy()\n",
    "        n_samples = len(sampled_df)\n",
    "        \n",
    "        profile = disruption_profiles[label]\n",
    "        disruption_factor = np.random.normal(profile['mean'], profile['std'], n_samples)\n",
    "        disruption_factor = np.clip(disruption_factor, profile['clip_min'], profile['clip_max'])\n",
    "        \n",
    "        sol_increase = (disruption_factor - 1) * np.random.uniform(10, 15, n_samples)\n",
    "        waso_increase = (disruption_factor - 1) * np.random.uniform(12, 18, n_samples)\n",
    "        n3_reduction_factor = (disruption_factor - 1) * np.random.uniform(0.5, 0.8, n_samples)\n",
    "        spindle_reduction_factor = (disruption_factor - 1) * np.random.uniform(0.4, 0.7, n_samples)\n",
    "\n",
    "        sampled_df['SOL_min'] += sol_increase\n",
    "        sampled_df['WASO_min'] += waso_increase\n",
    "        sampled_df['N3_min'] /= np.clip(1 + n3_reduction_factor, 1.0, None)\n",
    "        sampled_df['spindle_activity_index'] /= np.clip(1 + spindle_reduction_factor, 1.0, None)\n",
    "\n",
    "        sampled_df['TST_min'] = sampled_df[['N1_min', 'N2_min', 'N3_min', 'R_min']].sum(axis=1)\n",
    "        sampled_df['TRT_min'] = sampled_df['TST_min'] + sampled_df['SOL_min'] + sampled_df['WASO_min']\n",
    "        sampled_df['SE_prct_trt'] = (sampled_df['TST_min'] / (sampled_df['TRT_min'] + 1e-9)) * 100\n",
    "\n",
    "        for col in sampled_df.columns:\n",
    "            if '_min' in col or '_prct' in col or 'density' in col or '_index' in col: \n",
    "                sampled_df[col] = sampled_df[col].clip(lower=0)\n",
    "        sampled_df['SE_prct_trt'] = sampled_df['SE_prct_trt'].clip(upper=100)\n",
    "        sampled_df['signal_stability_index'] = sampled_df['signal_stability_index'].clip(upper=1.0)\n",
    "        sampled_df['spindle_activity_index'] = sampled_df['spindle_activity_index'].clip(upper=1.0)\n",
    "        sampled_df['medication'] = 0 if label == 'healthy' else np.random.choice([0, 1], size=len(sampled_df), p=[0.3, 0.7])\n",
    "        sampled_df['target'] = label\n",
    "        all_dfs.append(sampled_df)\n",
    "    \n",
    "    final_cols = list(column_mapping.values()) + ['SE_prct_trt', 'REM_density', 'signal_stability_index', 'spindle_activity_index', 'medication', 'target']\n",
    "    final_df = pd.concat(all_dfs, ignore_index=True)[final_cols].sample(frac=1, random_state=cfg.seed).reset_index(drop=True)\n",
    "    log(f\"Successfully generated {len(final_df)} hardened tabular samples.\", \"green\")\n",
    "    return final_df\n",
    "\n",
    "def synth_eeg_from_tabular_v78(row, fs=100, duration=30):\n",
    "    \"\"\"Generates EEG signals with more distinct class features to raise the accuracy ceiling.\"\"\"\n",
    "    n = fs * duration\n",
    "    t = np.arange(n) / fs\n",
    "    signal = np.zeros(n)\n",
    "    \n",
    "    se_factor = (100 - row['SE_prct_trt']) / 50.0 \n",
    "    waso_factor = row['WASO_min'] / 60.0 \n",
    "    n3_factor = row['N3_min'] / (row['TST_min'] + 1e-9)\n",
    "\n",
    "    band_amps = {\n",
    "        'delta': (5e-6 + n3_factor * 10e-6) * np.random.uniform(0.8, 1.2),\n",
    "        'theta': 7e-6 * np.random.uniform(0.8, 1.2),\n",
    "        'alpha': (2e-6 + waso_factor * 5e-6) * np.random.uniform(0.8, 1.2),\n",
    "        'beta': (3e-6 + se_factor * 10e-6) * np.random.uniform(0.8, 1.2),\n",
    "        'gamma': (1e-6 + se_factor * 4e-6) * np.random.uniform(0.8, 1.2)\n",
    "    }\n",
    "    \n",
    "    for band, amp in band_amps.items():\n",
    "        freqs = {'delta': (1, 3.5), 'theta': (4, 7), 'alpha': (9, 11), 'beta': (16, 25), 'gamma': (32, 40)}\n",
    "        if band in freqs:\n",
    "            signal += amp * np.sin(2 * np.pi * np.random.uniform(*freqs[band]) * t)\n",
    "    \n",
    "    # Class-specific features are slightly more prominent.\n",
    "    if row['target'] == 'healthy':\n",
    "        n_spindles = int(row.get('spindle_activity_index', 0.9) * 6)\n",
    "    elif row['target'] == 'ptsd':\n",
    "        signal += band_amps['beta'] * 0.5 * np.sin(2 * np.pi * np.random.uniform(20, 28) * t)\n",
    "        n_phasic_events = int(np.clip(row['REM_density'] / 3, 2, 8))\n",
    "        for _ in range(n_phasic_events):\n",
    "            event_wave = 45e-6 * sawtooth(2 * np.pi * np.random.uniform(2.5, 3.5) * (np.arange(int(fs*0.75))/fs)) * np.hanning(int(fs*0.75))\n",
    "            if n > len(event_wave):\n",
    "                start = np.random.randint(0, n - len(event_wave))\n",
    "                signal[start:start+len(event_wave)] += event_wave\n",
    "        n_spindles = int(row.get('spindle_activity_index', 0.6) * 3)\n",
    "    elif row['target'] == 'schizo':\n",
    "        # DEFINITIVE FIX: Make spindle reduction more pronounced and add a stable gamma oscillation.\n",
    "        n_spindles = int(row.get('spindle_activity_index', 0.5) * 1) # Severely reduced spindles\n",
    "        signal += band_amps['delta'] * 0.35 * np.sin(2 * np.pi * np.random.uniform(1.5, 3.0) * t)\n",
    "        # Add a stable, low-amplitude gamma wave as a clearer marker than the chaotic attractor\n",
    "        signal += 2.0e-6 * np.sin(2 * np.pi * 40 * t)\n",
    "    else:\n",
    "         n_spindles = int(row.get('spindle_activity_index', 0.8) * 4)\n",
    "\n",
    "    # Spindles & Noise\n",
    "    spindle_amp = row.get('spindle_activity_index', 0.8) * 15e-6\n",
    "    for _ in range(n_spindles):\n",
    "        burst_len = int(fs * np.random.uniform(0.5, 1.5))\n",
    "        if n > burst_len:\n",
    "            start = np.random.randint(0, n - burst_len)\n",
    "            burst_t = np.arange(burst_len) / fs\n",
    "            spindle = spindle_amp * np.sin(2 * np.pi * np.random.uniform(12, 15) * burst_t) * np.hanning(burst_len)\n",
    "            signal[start:start+burst_len] += spindle\n",
    "    \n",
    "    stability_index = row.get('signal_stability_index', 0.8)\n",
    "    noise_std = (1.5 - stability_index) * 4.5e-6\n",
    "    signal += np.random.normal(0, np.random.uniform(2.5e-6, noise_std), n)\n",
    "    \n",
    "    signal = (signal - np.mean(signal)) / (np.std(signal) + 1e-9)\n",
    "    return signal.astype(np.float32)"
   ]
  },
  {
   "cell_type": "code",
   "execution_count": 4,
   "id": "2d76254f",
   "metadata": {},
   "outputs": [],
   "source": [
    "# Block 4: Data Visualization (DEFINITIVE CORRECTED v78)\n",
    "\n",
    "def plot_signal_and_fft(signal, fs, title):\n",
    "    N = len(signal); yf = fft(signal); xf = fftfreq(N, 1.0/fs)[:N//2]\n",
    "    fig, (ax1, ax2) = plt.subplots(2, 1, figsize=(15, 7)); fig.suptitle(title, fontsize=16)\n",
    "    time_axis = np.arange(N) / fs\n",
    "    ax1.plot(time_axis, signal, color='teal'); ax1.set_title(\"Time Domain Signal (Normalized)\"); ax1.set_xlabel(\"Time [s]\"); ax1.set_ylabel(\"Amplitude (Z-score)\"); ax1.grid(True, alpha=0.6)\n",
    "    ax2.plot(xf, 2.0/N * np.abs(yf[0:N//2]), color='crimson'); ax2.set_title(\"Frequency Domain (FFT)\"); ax2.set_xlabel(\"Frequency [Hz]\"); ax2.set_ylabel(\"Power\"); ax2.set_xlim(0, 45); ax2.grid(True, alpha=0.6)\n",
    "    bands = {'Delta':(1,4),'Theta':(4,8),'Alpha':(8,12),'Beta':(12,30), 'Gamma':(30,45)}\n",
    "    for band, (low, high) in bands.items():\n",
    "        ax2.axvspan(low, high, color=plt.cm.viridis(low/45), alpha=0.15, label=band)\n",
    "    ax2.legend(); plt.tight_layout(rect=[0, 0, 1, 0.96]); plt.show()\n",
    "\n",
    "def analyze_and_visualize_all_classes():\n",
    "    log(\"Visualizing one hardened example from each class (v78)...\", \"yellow\", attrs=[])\n",
    "    tabular_df = generate_tabular_dataset_v78() # CORRECTED\n",
    "    if tabular_df is None: return\n",
    "    for label in cfg.class_names:\n",
    "        sample_row = tabular_df[tabular_df['target'] == label].sample(1, random_state=cfg.seed).iloc[0]\n",
    "        example_signal = synth_eeg_from_tabular_v78(sample_row, fs=cfg.fs) # CORRECTED\n",
    "        title = f\"Example '{label.capitalize()}' Synthetic REM EEG (v78 Hardened Generation)\"\n",
    "        plot_signal_and_fft(example_signal, cfg.fs, title)"
   ]
  },
  {
   "cell_type": "code",
   "execution_count": null,
   "id": "c7f35b4b",
   "metadata": {},
   "outputs": [],
   "source": [
    "# Block 5: Feature Engineering, Augmentation, and Model Architecture (DEFINITIVE CORRECTED v78)\n",
    "\n",
    "def create_trend_features(df, window_size):\n",
    "    \"\"\"Creates trend features (moving averages and std deviations).\"\"\"\n",
    "    key_features = [col for col in df.columns if 'Stats_Std' in col or 'BandPower' in col]\n",
    "    features_to_process = [f for f in key_features if f in df.columns]\n",
    "    all_subjects_data = []\n",
    "    df_copy = df.copy()\n",
    "    for subject, subject_df in df_copy.groupby('subject_id'):\n",
    "        subject_df = subject_df.reset_index(drop=True)\n",
    "        for col in features_to_process:\n",
    "            subject_df[f'{col}_rolling_mean_{window_size}'] = subject_df[col].rolling(window=window_size, min_periods=1, center=True).mean()\n",
    "            subject_df[f'{col}_rolling_std_{window_size}'] = subject_df[col].rolling(window=window_size, min_periods=1, center=True).std()\n",
    "        subject_df.fillna(method='bfill', inplace=True); subject_df.fillna(method='ffill', inplace=True)\n",
    "        all_subjects_data.append(subject_df)\n",
    "    return pd.concat(all_subjects_data, ignore_index=True)\n",
    "\n",
    "# DEFINITIVE FIX: This is a corrected, well-behaved augmentation function that avoids destroying the signal.\n",
    "def augment_signal_numpy(signal: np.ndarray, fs: int) -> np.ndarray:\n",
    "    \"\"\"Applies a balanced set of augmentations to prevent overfitting without destroying the signal.\"\"\"\n",
    "    # 1. Add Gaussian Noise: Adds small, random fluctuations.\n",
    "    if np.random.rand() < 0.5: \n",
    "        noise_amp = np.random.uniform(0.05, 0.15) * np.std(signal)\n",
    "        signal += np.random.normal(0, noise_amp, signal.shape)\n",
    "    \n",
    "    # 2. Amplitude Scaling: Changes the overall signal strength.\n",
    "    if np.random.rand() < 0.5: \n",
    "        signal *= np.random.uniform(0.8, 1.2)\n",
    "        \n",
    "    # 3. Time Shift (Roll): Shifts the signal cyclically.\n",
    "    if np.random.rand() < 0.4: \n",
    "        shift_amount = np.random.randint(-int(fs*0.5), int(fs*0.5))\n",
    "        signal = np.roll(signal, shift_amount)\n",
    "\n",
    "    # 4. Time Warping (Subtle): Slightly stretches/compresses parts of the signal.\n",
    "    if np.random.rand() < 0.3:\n",
    "        orig_steps = np.arange(len(signal))\n",
    "        time_warp = orig_steps + np.random.normal(0, fs * 0.05, len(signal)).cumsum()\n",
    "        time_warp = np.clip(time_warp, 0, len(signal) - 1)\n",
    "        signal = np.interp(orig_steps, time_warp, signal)\n",
    "        \n",
    "    return signal.astype(np.float32)\n",
    "\n",
    "def petrosian_fractal_dimension(x):\n",
    "    diff = np.diff(x); n_delta = np.sum(diff[1:] * diff[:-1] < 0)\n",
    "    return np.log10(len(x)) / (np.log10(len(x)) + np.log10(len(x) / (len(x) + 0.4 * n_delta + 1e-9)))\n",
    "\n",
    "def spectral_entropy(x, sf, nperseg):f\n",
    "    _, psd = welch(x, sf, nperseg=nperseg); psd_norm = psd / (psd.sum() + 1e-12)\n",
    "    return -np.sum(psd_norm * np.log2(psd_norm + 1e-12))\n",
    "\n",
    "def tkeo(x):\n",
    "    return x[1:-1]**2 - x[:-2] * x[2:]\n",
    "\n",
    "# FIX: UNIFIED FEATURE EXTRACTION FUNCTION\n",
    "def extract_unified_features(epoch_data, sfreq, ch_names, mode='mental_health'):\n",
    "    \"\"\"\n",
    "    Unified feature extraction function.\n",
    "    - 'sleep_staging': Returns a comprehensive feature dict for the .joblib sleep model.\n",
    "    - 'mental_health': Returns a specific numpy array for the .pt student model.\n",
    "    \"\"\"\n",
    "    # === Part 1: Comprehensive feature extraction for Sleep Stage Model ===\n",
    "    features_dict = {}\n",
    "    for i, ch_data in enumerate(epoch_data):\n",
    "        ch_name = ch_names[i]\n",
    "        features_dict[f'{ch_name}_Stats_Mean'] = np.mean(ch_data)\n",
    "        features_dict[f'{ch_name}_Stats_Std'] = np.std(ch_data)\n",
    "        features_dict[f'{ch_name}_Stats_Skew'] = skew(ch_data)\n",
    "        features_dict[f'{ch_name}_Stats_Kurtosis'] = kurtosis(ch_data)\n",
    "        freqs, psd = welch(ch_data, sfreq, nperseg=int(sfreq * 2))\n",
    "        bands = {'Delta': (0.5, 4), 'Theta': (4, 8), 'Alpha': (8, 12), 'Beta': (12, 30), 'Gamma': (30, 45)}\n",
    "        for band, (low, high) in bands.items():\n",
    "            features_dict[f'{ch_name}_BandPower_{band}'] = np.sum(psd[np.logical_and(freqs >= low, freqs <= high)])\n",
    "        try:\n",
    "            coeffs = pywt.wavedec(ch_data, 'db4', level=3)\n",
    "            for j, c in enumerate(coeffs):\n",
    "                energy = np.sum(np.square(c)); probs = (np.square(c) / (energy + 1e-12)) + 1e-12\n",
    "                features_dict[f'{ch_name}_Wavelet_WL{j+1}_Energy'] = energy\n",
    "                features_dict[f'{ch_name}_Wavelet_WL{j+1}_Entropy'] = -np.sum(probs * np.log2(probs))\n",
    "        except Exception:\n",
    "            for j in range(4): features_dict[f'{ch_name}_Wavelet_WL{j+1}_Energy'] = 0; features_dict[f'{ch_name}_Wavelet_WL{j+1}_Entropy'] = 0\n",
    "    \n",
    "    if mode == 'sleep_staging':\n",
    "        return features_dict\n",
    "\n",
    "    # === Part 2: Specific feature extraction for Mental Health Model ===\n",
    "    primary_signal = epoch_data[0] \n",
    "    mh_features = [np.mean(primary_signal), np.std(primary_signal), skew(primary_signal), kurtosis(primary_signal)]\n",
    "    freqs, psd = welch(primary_signal, sfreq, nperseg=sfreq*2); total_power = np.sum(psd) + 1e-9\n",
    "    for band, (low, high) in {'delta': (1, 4), 'theta': (4, 8), 'alpha': (8, 12), 'beta': (12, 30), 'gamma': (30, 45)}.items():\n",
    "        mh_features.append(np.sum(psd[np.logical_and(freqs >= low, freqs < high)]) / total_power)\n",
    "    diff1, diff2 = np.diff(primary_signal), np.diff(np.diff(primary_signal)); activity = np.var(primary_signal)\n",
    "    mobility = np.sqrt(np.var(diff1) / (activity + 1e-9)); complexity = np.sqrt(np.var(diff2) / (np.var(diff1) + 1e-9)) / (mobility + 1e-9)\n",
    "    mh_features.extend([activity, mobility, complexity]); mh_features.append(petrosian_fractal_dimension(primary_signal)); mh_features.append(spectral_entropy(primary_signal, sfreq, nperseg=sfreq*2))\n",
    "    tkeo_energy = tkeo(primary_signal); mh_features.extend([np.mean(tkeo_energy), np.std(tkeo_energy)])\n",
    "    try: mh_features.append(nolds.hfd(primary_signal, k_max=10))\n",
    "    except Exception: mh_features.append(0.0)\n",
    "    try:\n",
    "        coeffs = pywt.wavedec(primary_signal, 'db4', level=4); total_energy = sum(np.sum(np.square(c)) for c in coeffs) + 1e-9\n",
    "        for c in coeffs: mh_features.append(np.sum(np.square(c)) / total_energy)\n",
    "    except Exception: mh_features.extend([0.0] * 5)\n",
    "    return np.array(mh_features, dtype=np.float32)\n",
    "\n",
    "# --- PyTorch Dataset & Models ---\n",
    "class EegFeatureDataset(Dataset):\n",
    "    def __init__(self, tabular_df, y_hard, y_soft, augment=False, feature_noise=0.0):\n",
    "        self.tabular_df = tabular_df.reset_index(drop=True)\n",
    "        self.y_hard = y_hard.reset_index(drop=True)\n",
    "        self.y_soft = y_soft.reset_index(drop=True)\n",
    "        self.augment = augment\n",
    "        self.feature_noise = feature_noise\n",
    "\n",
    "    def __len__(self):\n",
    "        return len(self.tabular_df)\n",
    "\n",
    "    def __getitem__(self, idx):\n",
    "        tab_row = self.tabular_df.iloc[idx]\n",
    "        signal = synth_eeg_from_tabular_v78(tab_row, fs=cfg.fs) # CORRECTED\n",
    "        if self.augment:\n",
    "            signal = augment_signal_numpy(signal, cfg.fs)\n",
    "        \n",
    "        features = extract_unified_features(signal[np.newaxis, :], cfg.fs, ['EEG'], mode='mental_health')\n",
    "        \n",
    "        if self.augment and self.feature_noise > 0:\n",
    "            noise = np.random.normal(0, self.feature_noise, features.shape)\n",
    "            features += noise.astype(np.float32)\n",
    "            \n",
    "        return features, self.y_hard.iloc[idx], self.y_soft.iloc[idx].values.astype(np.float32)\n",
    "\n",
    "class SEBlock(nn.Module):\n",
    "    def __init__(self, channels, reduction=4):\n",
    "        super().__init__()\n",
    "        self.fc1 = nn.Linear(channels, channels // reduction)\n",
    "        self.fc2 = nn.Linear(channels // reduction, channels)\n",
    "    def forward(self, x):\n",
    "        weights = F.sigmoid(self.fc2(F.relu(self.fc1(x))))\n",
    "        return x * weights\n",
    "\n",
    "class GLU(nn.Module):\n",
    "    def forward(self, x):\n",
    "        a, b = x.chunk(2, dim=1)\n",
    "        return a * torch.sigmoid(b)\n",
    "\n",
    "class ChimeraBlock(nn.Module):\n",
    "    def __init__(self, in_features, out_features, dropout_rate):\n",
    "        super().__init__()\n",
    "        self.bn1 = nn.BatchNorm1d(in_features)\n",
    "        self.linear_glu = nn.Linear(in_features, out_features * 2)\n",
    "        self.glu = GLU()\n",
    "        self.se = SEBlock(out_features)\n",
    "        self.dropout = nn.Dropout(dropout_rate)\n",
    "        self.shortcut = nn.Linear(in_features, out_features) if in_features != out_features else nn.Identity()\n",
    "    def forward(self, x):\n",
    "        residual = self.shortcut(x)\n",
    "        x = self.bn1(x); x = self.linear_glu(x); x = self.glu(x)\n",
    "        x = self.se(x); x = self.dropout(x); x += residual\n",
    "        return x\n",
    "\n",
    "class ChimeraNetStudent(nn.Module):\n",
    "    \"\"\"FIX: Restored original, more powerful architecture to combat underfitting.\"\"\"\n",
    "    def __init__(self, input_features, num_classes, dropout_rate=0.4):\n",
    "        super().__init__()\n",
    "        self.initial_layer = nn.Sequential(nn.Linear(input_features, 128), nn.BatchNorm1d(128), nn.ReLU())\n",
    "        self.blocks = nn.Sequential(\n",
    "            ChimeraBlock(128, 96, dropout_rate),\n",
    "            ChimeraBlock(96, 64, dropout_rate)\n",
    "        )\n",
    "        self.head = nn.Linear(64, num_classes)\n",
    "    def forward(self, x):\n",
    "        x = self.initial_layer(x); x = self.blocks(x); x = self.head(x)\n",
    "        return x\n",
    "\n",
    "class DistillationLoss(nn.Module):\n",
    "    def __init__(self, alpha, temperature, label_smoothing=0.0):\n",
    "        super().__init__(); self.alpha = alpha; self.T = temperature\n",
    "        self.hard_loss_fn = nn.CrossEntropyLoss(label_smoothing=label_smoothing)\n",
    "        self.soft_loss_fn = nn.KLDivLoss(reduction='batchmean')\n",
    "    def forward(self, student_logits, hard_labels, teacher_logits):\n",
    "        hard_loss = self.alpha * self.hard_loss_fn(student_logits, hard_labels)\n",
    "        soft_loss = (1. - self.alpha) * self.T * self.T * self.soft_loss_fn(\n",
    "            F.log_softmax(student_logits / self.T, dim=1),\n",
    "            F.softmax(teacher_logits / self.T, dim=1)\n",
    "        )\n",
    "        return hard_loss + soft_loss"
   ]
  },
  {
   "cell_type": "code",
   "execution_count": 6,
   "id": "aa1da1ce",
   "metadata": {},
   "outputs": [],
   "source": [
    "# Block 6: Training and Validation Logic (DEFINITIVE FIX #5 - Patient Scheduler)\n",
    "\n",
    "def train_and_validate_student(model, train_ds, val_ds, class_map):\n",
    "    \"\"\"Trains and validates the student model using a more patient adaptive learning rate.\"\"\"\n",
    "    pin_memory_flag = True if cfg.device == 'cuda' else False\n",
    "    train_dl = DataLoader(train_ds, batch_size=cfg.batch_size, shuffle=True, num_workers=cfg.num_workers, pin_memory=pin_memory_flag)\n",
    "    val_dl = DataLoader(val_ds, batch_size=cfg.batch_size * 2, shuffle=False, num_workers=cfg.num_workers, pin_memory=pin_memory_flag)\n",
    "    model.to(cfg.device)\n",
    "    \n",
    "    if cfg.device == 'cuda':\n",
    "        try: \n",
    "            model = torch.compile(model)\n",
    "            log(\"Model compiled successfully with torch.compile()!\", \"green\")\n",
    "        except Exception: \n",
    "            log(f\"torch.compile() failed, continuing without it.\", \"yellow\", attrs=[])\n",
    "\n",
    "    opt = torch.optim.AdamW(model.parameters(), lr=cfg.lr, weight_decay=cfg.weight_decay)\n",
    "    # DEFINITIVE FIX: Use a more patient scheduler to give the model time to learn the new features.\n",
    "    sched = torch.optim.lr_scheduler.ReduceLROnPlateau(opt, mode='min', factor=0.5, patience=8, verbose=True)\n",
    "    criterion = DistillationLoss(alpha=cfg.distillation_alpha, temperature=cfg.distillation_temp, label_smoothing=cfg.label_smoothing)\n",
    "    scaler = torch.amp.GradScaler(enabled=(cfg.device == 'cuda'))\n",
    "    \n",
    "    best_val_acc = 0.0\n",
    "    patience_counter = 0\n",
    "    history = {'train_loss': [], 'val_loss': [], 'train_acc': [], 'val_acc': []}\n",
    "    \n",
    "    for epoch in range(cfg.epochs):\n",
    "        model.train()\n",
    "        train_loss, total, correct = 0.0, 0, 0\n",
    "        pbar = tqdm(train_dl, desc=f\"Epoch {epoch+1}/{cfg.epochs} [Train]\")\n",
    "        \n",
    "        for xb, yb_hard, yb_soft in pbar:\n",
    "            xb, yb_hard, yb_soft = xb.to(cfg.device), yb_hard.to(cfg.device), yb_soft.to(cfg.device)\n",
    "            xb.requires_grad = True\n",
    "            \n",
    "            opt.zero_grad()\n",
    "            \n",
    "            with torch.amp.autocast(device_type=cfg.device, dtype=torch.float16, enabled=(cfg.device == 'cuda')):\n",
    "                student_logits_clean = model(xb)\n",
    "                loss = criterion(student_logits_clean, yb_hard, yb_soft)\n",
    "\n",
    "                if cfg.adversarial_training:\n",
    "                    grad = torch.autograd.grad(scaler.scale(loss), xb, retain_graph=True, create_graph=False)[0]\n",
    "                    perturbation = cfg.fgsm_epsilon * grad.sign()\n",
    "                    xb_adv = xb + perturbation\n",
    "                    student_logits_adv = model(xb_adv)\n",
    "                    loss_adv = criterion(student_logits_adv, yb_hard, yb_soft)\n",
    "                    loss = (1 - cfg.adversarial_alpha) * loss + cfg.adversarial_alpha * loss_adv\n",
    "\n",
    "            scaler.scale(loss).backward()\n",
    "            scaler.unscale_(opt)\n",
    "            torch.nn.utils.clip_grad_norm_(model.parameters(), cfg.clip_grad)\n",
    "            scaler.step(opt)\n",
    "            scaler.update()\n",
    "\n",
    "            train_loss += loss.item() * len(xb)\n",
    "            total += len(xb)\n",
    "            correct += (student_logits_clean.argmax(1) == yb_hard).sum().item()\n",
    "            pbar.set_postfix(loss=loss.item(), acc=f\"{(100*correct/total):.1f}%\", lr=f\"{opt.param_groups[0]['lr']:.1e}\")\n",
    "        \n",
    "        avg_train_loss = train_loss / total\n",
    "        train_acc = correct / total\n",
    "        history['train_loss'].append(avg_train_loss)\n",
    "        history['train_acc'].append(train_acc)\n",
    "        \n",
    "        model.eval()\n",
    "        val_loss, total, correct = 0.0, 0, 0\n",
    "        with torch.no_grad():\n",
    "            for xb, yb_hard, yb_soft in tqdm(val_dl, desc=f\"Epoch {epoch+1}/{cfg.epochs} [Val]  \"):\n",
    "                xb, yb_hard, yb_soft = xb.to(cfg.device), yb_hard.to(cfg.device), yb_soft.to(cfg.device)\n",
    "                with torch.amp.autocast(device_type=cfg.device, dtype=torch.float16, enabled=(cfg.device == 'cuda')):\n",
    "                    student_logits = model(xb)\n",
    "                    val_loss += criterion(student_logits, yb_hard, yb_soft).item() * len(xb)\n",
    "                total += len(xb)\n",
    "                correct += (student_logits.argmax(1) == yb_hard).sum().item()\n",
    "        \n",
    "        avg_val_loss = val_loss / total\n",
    "        val_acc = correct / total\n",
    "        history['val_loss'].append(avg_val_loss)\n",
    "        history['val_acc'].append(val_acc)\n",
    "        \n",
    "        print(f\"Train Loss: {avg_train_loss:.4f} | Train Acc: {train_acc:.2%}\")\n",
    "        print(f\"Val Loss:   {avg_val_loss:.4f} | Val Acc:   {val_acc:.2%}\")\n",
    "        sched.step(avg_val_loss)\n",
    "\n",
    "        if val_acc > best_val_acc:\n",
    "            best_val_acc = val_acc\n",
    "            patience_counter = 0\n",
    "            log(f\"New best model! Val Acc: {best_val_acc:.2%}. Saving...\", \"green\", attrs=[])\n",
    "            torch.save({'model_state_dict': model.state_dict(), 'class_map': class_map}, cfg.STUDENT_MODEL_PATH)\n",
    "        else:\n",
    "            patience_counter += 1\n",
    "            if patience_counter >= cfg.patience:\n",
    "                log(f\"Early stopping after {patience_counter} epochs of no improvement.\", \"yellow\")\n",
    "                break\n",
    "    \n",
    "    log(\"Training finished.\", \"green\")\n",
    "    return history"
   ]
  },
  {
   "cell_type": "code",
   "execution_count": 7,
   "id": "646179cb",
   "metadata": {},
   "outputs": [],
   "source": [
    "# Block 7: Main Application and User Interface (DEFINITIVE FIX #3)\n",
    "\n",
    "def run_full_pipeline_once():\n",
    "    \"\"\"Executes the entire optimized knowledge distillation pipeline.\"\"\"\n",
    "    log(\"[1/4] Generating corrected tabular data for Teacher model...\")\n",
    "    tabular_df = generate_tabular_dataset_v78()\n",
    "    if tabular_df is None: \n",
    "        log(\"Tabular data generation failed. Aborting pipeline.\", \"red\")\n",
    "        return\n",
    "    \n",
    "    log(f\"[2/4] Training AutoGluon Teacher model (preset: {cfg.teacher_presets})...\")\n",
    "    if cfg.TEACHER_MODEL_DIR.exists(): shutil.rmtree(cfg.TEACHER_MODEL_DIR)\n",
    "    \n",
    "    teacher = TabularPredictor(label='target', path=cfg.TEACHER_MODEL_DIR).fit(\n",
    "        train_data=tabular_df.drop(columns=['Subjects_ID']),\n",
    "        presets=cfg.teacher_presets,\n",
    "        **cfg.teacher_fit_kwargs,\n",
    "        verbosity=0\n",
    "    )\n",
    "    log(\"Teacher model trained.\", \"green\")\n",
    "\n",
    "    log(\"[3/4] Preparing data splits and soft labels for Student...\")\n",
    "    soft_labels_df = teacher.predict_proba(tabular_df.drop(columns=['Subjects_ID']))\n",
    "    class_map = {name: i for i, name in enumerate(cfg.class_names)}\n",
    "    y_hard_series = tabular_df['target'].map(class_map).astype(int)\n",
    "    y_soft_df = soft_labels_df[list(class_map.keys())]\n",
    "\n",
    "    val_size = int(len(tabular_df) * cfg.validation_split)\n",
    "    indices = np.random.permutation(len(tabular_df))\n",
    "    train_idx, val_idx = indices[:-val_size], indices[-val_size:]\n",
    "\n",
    "    log(\"Using ON-THE-FLY data generation for memory efficiency.\", \"green\")\n",
    "    sample_signal = synth_eeg_from_tabular_v78(tabular_df.iloc[0], fs=cfg.fs)\n",
    "    sample_features = extract_unified_features(sample_signal[np.newaxis, :], cfg.fs, ['EEG'], mode='mental_health')\n",
    "    input_features_dim = len(sample_features)\n",
    "    log(f\"Detected {input_features_dim} features per signal.\", \"cyan\")\n",
    "\n",
    "    train_ds = EegFeatureDataset(tabular_df.iloc[train_idx], y_hard_series.iloc[train_idx], y_soft_df.iloc[train_idx], augment=True, feature_noise=cfg.feature_noise)\n",
    "    \n",
    "    # DEFINITIVE FIX: Apply the SAME augmentations and noise to the validation set.\n",
    "    # This makes the tasks symmetrical and provides a fair accuracy comparison.\n",
    "    val_ds = EegFeatureDataset(tabular_df.iloc[val_idx], y_hard_series.iloc[val_idx], y_soft_df.iloc[val_idx], augment=True, feature_noise=cfg.feature_noise)\n",
    "    \n",
    "    log(f\"Data split: {len(train_ds)} train, {len(val_ds)} val. Ready for Student.\", \"green\")\n",
    "    \n",
    "    log(f\"[4/4] Training ChimeraNet Student model (Adv Training: {cfg.adversarial_training})...\")\n",
    "    student_model = ChimeraNetStudent(input_features=input_features_dim, num_classes=len(class_map), dropout_rate=cfg.dropout_rate)\n",
    "    history = train_and_validate_student(student_model, train_ds, val_ds, class_map)\n",
    "    log(\"Distillation pipeline completed successfully.\", \"green\")\n",
    "\n",
    "def demonstrate_on_synthetic_data():\n",
    "    \"\"\"Loads the trained student model and demonstrates its performance.\"\"\"\n",
    "    if not cfg.STUDENT_MODEL_PATH.exists(): log(\"Model not found. Run Option 1 first.\", \"red\"); return\n",
    "    log(\"Demonstrating model on newly generated signals...\")\n",
    "    ckpt = torch.load(cfg.STUDENT_MODEL_PATH, map_location=cfg.device)\n",
    "    \n",
    "    input_features_dim = ckpt['model_state_dict']['initial_layer.0.weight'].shape[1]\n",
    "    model = ChimeraNetStudent(input_features=input_features_dim, num_classes=len(cfg.class_names), dropout_rate=cfg.dropout_rate).to(cfg.device)\n",
    "    model.load_state_dict(ckpt['model_state_dict']); model.eval()\n",
    "    inv_map = {v: k for k, v in ckpt['class_map'].items()}\n",
    "    \n",
    "    tabular_df_demo = generate_tabular_dataset_v78()\n",
    "    features, true_labels = [], []\n",
    "    for name in cfg.class_names:\n",
    "        sample_row = tabular_df_demo[tabular_df_demo['target'] == name].sample(1, random_state=cfg.seed+1).iloc[0]\n",
    "        signal = synth_eeg_from_tabular_v78(sample_row)\n",
    "        features.append(torch.from_numpy(extract_unified_features(signal[np.newaxis, :], cfg.fs, ['EEG'], mode='mental_health')))\n",
    "        true_labels.append(name)\n",
    "        \n",
    "    with torch.no_grad(): \n",
    "        preds = model(torch.stack(features).to(cfg.device)).argmax(dim=1).cpu().numpy()\n",
    "    \n",
    "    print(\"\\n--- Clinical Signal Demonstration (v79) ---\\n\")\n",
    "    for i, true_label in enumerate(true_labels):\n",
    "        pred_label = inv_map[preds[i]]; status = colored(\"✅ Correct\", \"green\") if true_label == pred_label else colored(\"❌ Incorrect\", \"red\")\n",
    "        print(f\"True: {true_label:8} | Predicted: {pred_label:8} | {status}\")\n",
    "    print(\"\\n\")\n",
    "    \n",
    "def fine_tune_on_real_data():\n",
    "    \"\"\"Fine-tunes the trained student model on real-world EDF data.\"\"\"\n",
    "    if not cfg.STUDENT_MODEL_PATH.exists(): log(\"Base model not found. Run Option 1 first.\", \"red\"); return\n",
    "    if sleep_model is None: log(\"Sleep stage model not loaded. Fine-tuning is disabled.\", \"red\"); return\n",
    "\n",
    "    edf_path_str = input(\"➡️ Enter the full path to your EDF file: \").strip().replace('\"', '')\n",
    "    edf_path = Path(edf_path_str)\n",
    "    if not edf_path.exists(): log(f\"File not found: '{edf_path}'.\", \"red\"); return\n",
    "    \n",
    "    true_label = \"\"\n",
    "    while true_label not in cfg.class_names: true_label = input(f\"➡️ Enter true label {cfg.class_names}: \").lower()\n",
    "\n",
    "    try:\n",
    "        raw = mne.io.read_raw_edf(edf_path, preload=True, verbose=False)\n",
    "        available_rem_chs = [ch for ch in cfg.REM_MODEL_CHANNELS if ch in raw.ch_names]\n",
    "        if not available_rem_chs: log(\"None of required channels found.\", \"red\"); return\n",
    "        \n",
    "        cnn_channel = next((ch for ch in ['C3','C4','F4','PZ','O1','O2'] if ch in raw.ch_names), available_rem_chs[0])\n",
    "        raw.pick(available_rem_chs).resample(cfg.fs, verbose=False)\n",
    "        mc_epochs = mne.make_fixed_length_epochs(raw, duration=cfg.duration, preload=True, verbose=False)\n",
    "        \n",
    "        log(\"Extracting base features for sleep stage prediction...\", \"cyan\", attrs=[])\n",
    "        base_features_list = [extract_unified_features(e, cfg.fs, mc_epochs.ch_names, mode='sleep_staging') for e in tqdm(mc_epochs.get_data(copy=False), desc=\"Extracting Base Features\")]\n",
    "        base_features_df = pd.DataFrame(base_features_list)\n",
    "        base_features_df['subject_id'] = 'finetune_subject'\n",
    "        \n",
    "        log(\"Creating trend features...\", \"cyan\", attrs=[])\n",
    "        full_features_df = create_trend_features(base_features_df, 5)\n",
    "        \n",
    "        log(\"Aligning feature columns for prediction...\", \"cyan\", attrs=[])\n",
    "        X_test_df = full_features_df.reindex(columns=sleep_feature_columns, fill_value=0)\n",
    "        \n",
    "        log(\"Scaling features and predicting sleep stages...\", \"cyan\", attrs=[])\n",
    "        X_test_scaled = sleep_scaler.transform(X_test_df)\n",
    "        predicted_stages = sleep_model.predict(X_test_scaled)\n",
    "        \n",
    "        rem_indices = np.where(predicted_stages == rem_label_int)[0]\n",
    "        if len(rem_indices) == 0: log(\"No valid REM epochs found.\", \"yellow\"); return\n",
    "        \n",
    "        all_epochs_data = mc_epochs.get_data(copy=False)\n",
    "        rem_epochs_mc = [all_epochs_data[i] for i in rem_indices]\n",
    "        cnn_ch_idx = mc_epochs.ch_names.index(cnn_channel)\n",
    "        log(f\"Found {len(rem_epochs_mc)} REM epochs. Using channel '{cnn_channel}' for fine-tuning.\", \"green\")\n",
    "\n",
    "    except Exception as e: log(f\"Error processing EDF file: {e}\", \"red\"); return\n",
    "\n",
    "    ckpt = torch.load(cfg.STUDENT_MODEL_PATH, map_location=cfg.device); class_map = ckpt['class_map']\n",
    "    input_features_dim = ckpt['model_state_dict']['initial_layer.0.weight'].shape[1]\n",
    "    model = ChimeraNetStudent(input_features=input_features_dim, num_classes=len(class_map), dropout_rate=cfg.dropout_rate).to(cfg.device)\n",
    "    model.load_state_dict(ckpt['model_state_dict'])\n",
    "    \n",
    "    augmented_features = []\n",
    "    for _ in range(cfg.fine_tune_augmentations):\n",
    "        for epoch in rem_epochs_mc:\n",
    "            augmented_signal = augment_signal_numpy(epoch[cnn_ch_idx], cfg.fs)\n",
    "            augmented_features.append(extract_unified_features(augmented_signal[np.newaxis, :], cfg.fs, ['EEG'], mode='mental_health'))\n",
    "    \n",
    "    features_tensor = torch.tensor(np.array(augmented_features), dtype=torch.float32)\n",
    "    labels_tensor = torch.full((len(augmented_features),), class_map[true_label], dtype=torch.long)\n",
    "    ds = torch.utils.data.TensorDataset(features_tensor, labels_tensor)\n",
    "\n",
    "    if len(ds) < 4: \n",
    "        log(f\"Too few augmented samples ({len(ds)}) for fine-tuning. A minimum of 4 is required.\", \"red\")\n",
    "        return\n",
    "    \n",
    "    dl = DataLoader(ds, batch_size=4, shuffle=True)\n",
    "    opt = torch.optim.AdamW(model.parameters(), lr=cfg.fine_tune_lr)\n",
    "    criterion = nn.CrossEntropyLoss()\n",
    "    model.train()\n",
    "    \n",
    "    fine_tune_epochs_safe = min(cfg.fine_tune_epochs, 20)\n",
    "    \n",
    "    for epoch in range(fine_tune_epochs_safe):\n",
    "        for xb, yb_hard in tqdm(dl, desc=f\"Fine-tuning Epoch {epoch+1}/{fine_tune_epochs_safe}\"):\n",
    "            loss = criterion(model(xb.to(cfg.device)), yb_hard.to(cfg.device))\n",
    "            opt.zero_grad()\n",
    "            loss.backward()\n",
    "            opt.step()\n",
    "            \n",
    "    log(\"\\nFine-tuning complete. Model updated and saved.\", \"green\")\n",
    "    torch.save({'model_state_dict': model.state_dict(), 'class_map': class_map}, cfg.STUDENT_MODEL_PATH)\n",
    "\n",
    "\n",
    "def run_menu():\n",
    "    \"\"\"Displays an interactive command-line menu for the user.\"\"\"\n",
    "    print(\"=\"*65 + \"\\n Interactive Clinical EEG Distillation CLI (Definitive v79) \\n\" + \"=\"*65)\n",
    "    while True:\n",
    "        print(\"\\nOptions:\\n 1. Run full DISTILLATION pipeline\\n 2. Demonstrate trained model\\n 3. Fine-tune on REAL EEG data\\n 4. Exit\")\n",
    "        choice = input(\"Select 1–4: \")\n",
    "        if choice == '1':\n",
    "            analyze_and_visualize_all_classes(); run_full_pipeline_once()\n",
    "        elif choice == '2':\n",
    "            demonstrate_on_synthetic_data()\n",
    "        elif choice == '3':\n",
    "            fine_tune_on_real_data()\n",
    "        elif choice == '4':\n",
    "            print(\"Exiting...\"); break\n",
    "        else:\n",
    "            print(\"Invalid option. Try again.\")\n",
    "        if input(\"\\nPress Enter to continue or 'exit' to quit: \").lower() == 'exit':\n",
    "            print(\"Exiting...\"); break"
   ]
  },
  {
   "cell_type": "code",
   "execution_count": 8,
   "id": "5332db3d",
   "metadata": {},
   "outputs": [
    {
     "name": "stdout",
     "output_type": "stream",
     "text": [
      "=================================================================\n",
      " Interactive Clinical EEG Distillation CLI (Definitive v79) \n",
      "=================================================================\n",
      "\n",
      "Options:\n",
      " 1. Run full DISTILLATION pipeline\n",
      " 2. Demonstrate trained model\n",
      " 3. Fine-tune on REAL EEG data\n",
      " 4. Exit\n",
      "\u001b[33m[INFO] Visualizing one hardened example from each class (v78)...\u001b[0m\n",
      "\u001b[33m[INFO] Loading and augmenting tabular data with clearer class separation...\u001b[0m\n",
      "\u001b[1m\u001b[32m[INFO] Successfully generated 9000 hardened tabular samples.\u001b[0m\n"
     ]
    },
    {
     "data": {
      "image/png": "[encoded data removed]",
      "text/plain": [
       "<Figure size 1500x700 with 2 Axes>"
      ]
     },
     "metadata": {},
     "output_type": "display_data"
    },
    {
     "data": {
      "image/png": "[encoded data removed]",
      "text/plain": [
       "<Figure size 1500x700 with 2 Axes>"
      ]
     },
     "metadata": {},
     "output_type": "display_data"
    },
    {
     "data": {
      "image/png": "[encoded data removed]",
      "text/plain": [
       "<Figure size 1500x700 with 2 Axes>"
      ]
     },
     "metadata": {},
     "output_type": "display_data"
    },
    {
     "name": "stdout",
     "output_type": "stream",
     "text": [
      "\u001b[1m\u001b[36m[INFO] [1/4] Generating corrected tabular data for Teacher model...\u001b[0m\n",
      "\u001b[33m[INFO] Loading and augmenting tabular data with clearer class separation...\u001b[0m\n",
      "\u001b[1m\u001b[32m[INFO] Successfully generated 9000 hardened tabular samples.\u001b[0m\n",
      "\u001b[1m\u001b[36m[INFO] [2/4] Training AutoGluon Teacher model (preset: best_quality)...\u001b[0m\n"
     ]
    },
    {
     "name": "stderr",
     "output_type": "stream",
     "text": [
      "2025-08-12 14:07:16,040\tINFO worker.py:1843 -- Started a local Ray instance. View the dashboard at \u001b[1m\u001b[32m127.0.0.1:8265 \u001b[39m\u001b[22m\n",
      "\u001b[36m(_dystack pid=27844)\u001b[0m C:\\Users\\surya\\AppData\\Roaming\\Python\\Python310\\site-packages\\sklearn\\base.py:474: FutureWarning: `BaseEstimator._validate_data` is deprecated in 1.6 and will be removed in 1.7. Use `sklearn.utils.validation.validate_data` instead. This function becomes public and is part of the scikit-learn developer API.\n",
      "\u001b[36m(_dystack pid=27844)\u001b[0m   warnings.warn(\n",
      "\u001b[36m(_dystack pid=27844)\u001b[0m C:\\Users\\surya\\AppData\\Roaming\\Python\\Python310\\site-packages\\sklearn\\base.py:474: FutureWarning: `BaseEstimator._validate_data` is deprecated in 1.6 and will be removed in 1.7. Use `sklearn.utils.validation.validate_data` instead. This function becomes public and is part of the scikit-learn developer API.\n",
      "\u001b[36m(_dystack pid=27844)\u001b[0m   warnings.warn(\n",
      "\u001b[36m(_dystack pid=27844)\u001b[0m C:\\Users\\surya\\AppData\\Roaming\\Python\\Python310\\site-packages\\sklearn\\base.py:474: FutureWarning: `BaseEstimator._validate_data` is deprecated in 1.6 and will be removed in 1.7. Use `sklearn.utils.validation.validate_data` instead. This function becomes public and is part of the scikit-learn developer API.\n",
      "\u001b[36m(_dystack pid=27844)\u001b[0m   warnings.warn(\n",
      "\u001b[36m(_dystack pid=27844)\u001b[0m C:\\Users\\surya\\AppData\\Roaming\\Python\\Python310\\site-packages\\sklearn\\base.py:474: FutureWarning: `BaseEstimator._validate_data` is deprecated in 1.6 and will be removed in 1.7. Use `sklearn.utils.validation.validate_data` instead. This function becomes public and is part of the scikit-learn developer API.\n",
      "\u001b[36m(_dystack pid=27844)\u001b[0m   warnings.warn(\n",
      "\u001b[36m(_dystack pid=27844)\u001b[0m C:\\Users\\surya\\AppData\\Roaming\\Python\\Python310\\site-packages\\sklearn\\base.py:474: FutureWarning: `BaseEstimator._validate_data` is deprecated in 1.6 and will be removed in 1.7. Use `sklearn.utils.validation.validate_data` instead. This function becomes public and is part of the scikit-learn developer API.\n",
      "\u001b[36m(_dystack pid=27844)\u001b[0m   warnings.warn(\n",
      "\u001b[36m(_dystack pid=27844)\u001b[0m C:\\Users\\surya\\AppData\\Roaming\\Python\\Python310\\site-packages\\sklearn\\base.py:474: FutureWarning: `BaseEstimator._validate_data` is deprecated in 1.6 and will be removed in 1.7. Use `sklearn.utils.validation.validate_data` instead. This function becomes public and is part of the scikit-learn developer API.\n",
      "\u001b[36m(_dystack pid=27844)\u001b[0m   warnings.warn(\n",
      "\u001b[36m(_dystack pid=27844)\u001b[0m C:\\Users\\surya\\AppData\\Roaming\\Python\\Python310\\site-packages\\sklearn\\base.py:474: FutureWarning: `BaseEstimator._validate_data` is deprecated in 1.6 and will be removed in 1.7. Use `sklearn.utils.validation.validate_data` instead. This function becomes public and is part of the scikit-learn developer API.\n",
      "\u001b[36m(_dystack pid=27844)\u001b[0m   warnings.warn(\n",
      "\u001b[36m(_dystack pid=27844)\u001b[0m C:\\Users\\surya\\AppData\\Roaming\\Python\\Python310\\site-packages\\sklearn\\base.py:474: FutureWarning: `BaseEstimator._validate_data` is deprecated in 1.6 and will be removed in 1.7. Use `sklearn.utils.validation.validate_data` instead. This function becomes public and is part of the scikit-learn developer API.\n",
      "\u001b[36m(_dystack pid=27844)\u001b[0m   warnings.warn(\n",
      "\u001b[36m(_dystack pid=27844)\u001b[0m C:\\Users\\surya\\AppData\\Roaming\\Python\\Python310\\site-packages\\sklearn\\base.py:474: FutureWarning: `BaseEstimator._validate_data` is deprecated in 1.6 and will be removed in 1.7. Use `sklearn.utils.validation.validate_data` instead. This function becomes public and is part of the scikit-learn developer API.\n",
      "\u001b[36m(_dystack pid=27844)\u001b[0m   warnings.warn(\n",
      "\u001b[36m(_dystack pid=27844)\u001b[0m C:\\Users\\surya\\AppData\\Roaming\\Python\\Python310\\site-packages\\sklearn\\base.py:474: FutureWarning: `BaseEstimator._validate_data` is deprecated in 1.6 and will be removed in 1.7. Use `sklearn.utils.validation.validate_data` instead. This function becomes public and is part of the scikit-learn developer API.\n",
      "\u001b[36m(_dystack pid=27844)\u001b[0m   warnings.warn(\n",
      "C:\\Users\\surya\\AppData\\Roaming\\Python\\Python310\\site-packages\\sklearn\\base.py:474: FutureWarning: `BaseEstimator._validate_data` is deprecated in 1.6 and will be removed in 1.7. Use `sklearn.utils.validation.validate_data` instead. This function becomes public and is part of the scikit-learn developer API.\n",
      "  warnings.warn(\n",
      "C:\\Users\\surya\\AppData\\Roaming\\Python\\Python310\\site-packages\\sklearn\\base.py:474: FutureWarning: `BaseEstimator._validate_data` is deprecated in 1.6 and will be removed in 1.7. Use `sklearn.utils.validation.validate_data` instead. This function becomes public and is part of the scikit-learn developer API.\n",
      "  warnings.warn(\n",
      "C:\\Users\\surya\\AppData\\Roaming\\Python\\Python310\\site-packages\\sklearn\\base.py:474: FutureWarning: `BaseEstimator._validate_data` is deprecated in 1.6 and will be removed in 1.7. Use `sklearn.utils.validation.validate_data` instead. This function becomes public and is part of the scikit-learn developer API.\n",
      "  warnings.warn(\n",
      "C:\\Users\\surya\\AppData\\Roaming\\Python\\Python310\\site-packages\\sklearn\\base.py:474: FutureWarning: `BaseEstimator._validate_data` is deprecated in 1.6 and will be removed in 1.7. Use `sklearn.utils.validation.validate_data` instead. This function becomes public and is part of the scikit-learn developer API.\n",
      "  warnings.warn(\n",
      "C:\\Users\\surya\\AppData\\Roaming\\Python\\Python310\\site-packages\\sklearn\\base.py:474: FutureWarning: `BaseEstimator._validate_data` is deprecated in 1.6 and will be removed in 1.7. Use `sklearn.utils.validation.validate_data` instead. This function becomes public and is part of the scikit-learn developer API.\n",
      "  warnings.warn(\n",
      "C:\\Users\\surya\\AppData\\Roaming\\Python\\Python310\\site-packages\\sklearn\\base.py:474: FutureWarning: `BaseEstimator._validate_data` is deprecated in 1.6 and will be removed in 1.7. Use `sklearn.utils.validation.validate_data` instead. This function becomes public and is part of the scikit-learn developer API.\n",
      "  warnings.warn(\n",
      "C:\\Users\\surya\\AppData\\Roaming\\Python\\Python310\\site-packages\\sklearn\\base.py:474: FutureWarning: `BaseEstimator._validate_data` is deprecated in 1.6 and will be removed in 1.7. Use `sklearn.utils.validation.validate_data` instead. This function becomes public and is part of the scikit-learn developer API.\n",
      "  warnings.warn(\n",
      "C:\\Users\\surya\\AppData\\Roaming\\Python\\Python310\\site-packages\\sklearn\\base.py:474: FutureWarning: `BaseEstimator._validate_data` is deprecated in 1.6 and will be removed in 1.7. Use `sklearn.utils.validation.validate_data` instead. This function becomes public and is part of the scikit-learn developer API.\n",
      "  warnings.warn(\n",
      "C:\\Users\\surya\\AppData\\Roaming\\Python\\Python310\\site-packages\\sklearn\\base.py:474: FutureWarning: `BaseEstimator._validate_data` is deprecated in 1.6 and will be removed in 1.7. Use `sklearn.utils.validation.validate_data` instead. This function becomes public and is part of the scikit-learn developer API.\n",
      "  warnings.warn(\n",
      "C:\\Users\\surya\\AppData\\Roaming\\Python\\Python310\\site-packages\\sklearn\\base.py:474: FutureWarning: `BaseEstimator._validate_data` is deprecated in 1.6 and will be removed in 1.7. Use `sklearn.utils.validation.validate_data` instead. This function becomes public and is part of the scikit-learn developer API.\n",
      "  warnings.warn(\n",
      "C:\\Users\\surya\\AppData\\Roaming\\Python\\Python310\\site-packages\\sklearn\\base.py:474: FutureWarning: `BaseEstimator._validate_data` is deprecated in 1.6 and will be removed in 1.7. Use `sklearn.utils.validation.validate_data` instead. This function becomes public and is part of the scikit-learn developer API.\n",
      "  warnings.warn(\n",
      "C:\\Users\\surya\\AppData\\Roaming\\Python\\Python310\\site-packages\\sklearn\\base.py:474: FutureWarning: `BaseEstimator._validate_data` is deprecated in 1.6 and will be removed in 1.7. Use `sklearn.utils.validation.validate_data` instead. This function becomes public and is part of the scikit-learn developer API.\n",
      "  warnings.warn(\n"
     ]
    },
    {
     "name": "stdout",
     "output_type": "stream",
     "text": [
      "\u001b[1m\u001b[32m[INFO] Teacher model trained.\u001b[0m\n",
      "\u001b[1m\u001b[36m[INFO] [3/4] Preparing data splits and soft labels for Student...\u001b[0m\n",
      "\u001b[1m\u001b[32m[INFO] Using ON-THE-FLY data generation for memory efficiency.\u001b[0m\n",
      "\u001b[1m\u001b[36m[INFO] Detected 22 features per signal.\u001b[0m\n",
      "\u001b[1m\u001b[32m[INFO] Data split: 7200 train, 1800 val. Ready for Student.\u001b[0m\n",
      "\u001b[1m\u001b[36m[INFO] [4/4] Training ChimeraNet Student model (Adv Training: True)...\u001b[0m\n"
     ]
    },
    {
     "data": {
      "application/vnd.jupyter.widget-view+json": {
       "model_id": "b9e88ecd9f4b4282a55c61a803b923ac",
       "version_major": 2,
       "version_minor": 0
      },
      "text/plain": [
       "Epoch 1/80 [Train]:   0%|          | 0/57 [00:00<?, ?it/s]"
      ]
     },
     "metadata": {},
     "output_type": "display_data"
    },
    {
     "data": {
      "application/vnd.jupyter.widget-view+json": {
       "model_id": "fb97a7b2f5e842fd9ed550f52e8c6e45",
       "version_major": 2,
       "version_minor": 0
      },
      "text/plain": [
       "Epoch 1/80 [Val]  :   0%|          | 0/8 [00:00<?, ?it/s]"
      ]
     },
     "metadata": {},
     "output_type": "display_data"
    },
    {
     "name": "stdout",
     "output_type": "stream",
     "text": [
      "Train Loss: 0.5685 | Train Acc: 64.40%\n",
      "Val Loss:   0.5169 | Val Acc:   75.56%\n",
      "\u001b[32m[INFO] New best model! Val Acc: 75.56%. Saving...\u001b[0m\n"
     ]
    },
    {
     "data": {
      "application/vnd.jupyter.widget-view+json": {
       "model_id": "677052aaaf3643ad8bcaf5fd1fed76c5",
       "version_major": 2,
       "version_minor": 0
      },
      "text/plain": [
       "Epoch 2/80 [Train]:   0%|          | 0/57 [00:00<?, ?it/s]"
      ]
     },
     "metadata": {},
     "output_type": "display_data"
    },
    {
     "data": {
      "application/vnd.jupyter.widget-view+json": {
       "model_id": "738d656b592b411196eed4c1aa078fce",
       "version_major": 2,
       "version_minor": 0
      },
      "text/plain": [
       "Epoch 2/80 [Val]  :   0%|          | 0/8 [00:00<?, ?it/s]"
      ]
     },
     "metadata": {},
     "output_type": "display_data"
    },
    {
     "name": "stdout",
     "output_type": "stream",
     "text": [
      "Train Loss: 0.5088 | Train Acc: 75.35%\n",
      "Val Loss:   0.4876 | Val Acc:   79.06%\n",
      "\u001b[32m[INFO] New best model! Val Acc: 79.06%. Saving...\u001b[0m\n"
     ]
    },
    {
     "data": {
      "application/vnd.jupyter.widget-view+json": {
       "model_id": "9705cb4f89ed46b8a7ba7745d09ef754",
       "version_major": 2,
       "version_minor": 0
      },
      "text/plain": [
       "Epoch 3/80 [Train]:   0%|          | 0/57 [00:00<?, ?it/s]"
      ]
     },
     "metadata": {},
     "output_type": "display_data"
    },
    {
     "data": {
      "application/vnd.jupyter.widget-view+json": {
       "model_id": "408124f8f83841a4b8c8cb13d84042fb",
       "version_major": 2,
       "version_minor": 0
      },
      "text/plain": [
       "Epoch 3/80 [Val]  :   0%|          | 0/8 [00:00<?, ?it/s]"
      ]
     },
     "metadata": {},
     "output_type": "display_data"
    },
    {
     "name": "stdout",
     "output_type": "stream",
     "text": [
      "Train Loss: 0.4907 | Train Acc: 78.38%\n",
      "Val Loss:   0.4791 | Val Acc:   80.28%\n",
      "\u001b[32m[INFO] New best model! Val Acc: 80.28%. Saving...\u001b[0m\n"
     ]
    },
    {
     "data": {
      "application/vnd.jupyter.widget-view+json": {
       "model_id": "eaf8031dbc1c4f5dbd28967c07fc725a",
       "version_major": 2,
       "version_minor": 0
      },
      "text/plain": [
       "Epoch 4/80 [Train]:   0%|          | 0/57 [00:00<?, ?it/s]"
      ]
     },
     "metadata": {},
     "output_type": "display_data"
    },
    {
     "data": {
      "application/vnd.jupyter.widget-view+json": {
       "model_id": "818d613d1c8b443f82861476f9a33b11",
       "version_major": 2,
       "version_minor": 0
      },
      "text/plain": [
       "Epoch 4/80 [Val]  :   0%|          | 0/8 [00:00<?, ?it/s]"
      ]
     },
     "metadata": {},
     "output_type": "display_data"
    },
    {
     "name": "stdout",
     "output_type": "stream",
     "text": [
      "Train Loss: 0.4861 | Train Acc: 79.11%\n",
      "Val Loss:   0.4732 | Val Acc:   79.94%\n"
     ]
    },
    {
     "data": {
      "application/vnd.jupyter.widget-view+json": {
       "model_id": "02976e786bca4f68b5526c5287b61bf4",
       "version_major": 2,
       "version_minor": 0
      },
      "text/plain": [
       "Epoch 5/80 [Train]:   0%|          | 0/57 [00:00<?, ?it/s]"
      ]
     },
     "metadata": {},
     "output_type": "display_data"
    },
    {
     "data": {
      "application/vnd.jupyter.widget-view+json": {
       "model_id": "6de1848da3614bd495f7657a7c6c751e",
       "version_major": 2,
       "version_minor": 0
      },
      "text/plain": [
       "Epoch 5/80 [Val]  :   0%|          | 0/8 [00:00<?, ?it/s]"
      ]
     },
     "metadata": {},
     "output_type": "display_data"
    },
    {
     "name": "stdout",
     "output_type": "stream",
     "text": [
      "Train Loss: 0.4776 | Train Acc: 80.50%\n",
      "Val Loss:   0.4715 | Val Acc:   80.22%\n"
     ]
    },
    {
     "data": {
      "application/vnd.jupyter.widget-view+json": {
       "model_id": "1e6fdb24b9fa4209b79dde2cb337ea76",
       "version_major": 2,
       "version_minor": 0
      },
      "text/plain": [
       "Epoch 6/80 [Train]:   0%|          | 0/57 [00:00<?, ?it/s]"
      ]
     },
     "metadata": {},
     "output_type": "display_data"
    },
    {
     "data": {
      "application/vnd.jupyter.widget-view+json": {
       "model_id": "6d5aa99f8a104f20b0d24ef46f9492ce",
       "version_major": 2,
       "version_minor": 0
      },
      "text/plain": [
       "Epoch 6/80 [Val]  :   0%|          | 0/8 [00:00<?, ?it/s]"
      ]
     },
     "metadata": {},
     "output_type": "display_data"
    },
    {
     "name": "stdout",
     "output_type": "stream",
     "text": [
      "Train Loss: 0.4711 | Train Acc: 81.75%\n",
      "Val Loss:   0.4577 | Val Acc:   83.89%\n",
      "\u001b[32m[INFO] New best model! Val Acc: 83.89%. Saving...\u001b[0m\n"
     ]
    },
    {
     "data": {
      "application/vnd.jupyter.widget-view+json": {
       "model_id": "256915d64db04dbbbc76c8519a926faf",
       "version_major": 2,
       "version_minor": 0
      },
      "text/plain": [
       "Epoch 7/80 [Train]:   0%|          | 0/57 [00:00<?, ?it/s]"
      ]
     },
     "metadata": {},
     "output_type": "display_data"
    },
    {
     "data": {
      "application/vnd.jupyter.widget-view+json": {
       "model_id": "de52334a294243ed81f98d0107f00267",
       "version_major": 2,
       "version_minor": 0
      },
      "text/plain": [
       "Epoch 7/80 [Val]  :   0%|          | 0/8 [00:00<?, ?it/s]"
      ]
     },
     "metadata": {},
     "output_type": "display_data"
    },
    {
     "name": "stdout",
     "output_type": "stream",
     "text": [
      "Train Loss: 0.4664 | Train Acc: 82.36%\n",
      "Val Loss:   0.4533 | Val Acc:   84.33%\n",
      "\u001b[32m[INFO] New best model! Val Acc: 84.33%. Saving...\u001b[0m\n"
     ]
    },
    {
     "data": {
      "application/vnd.jupyter.widget-view+json": {
       "model_id": "d367624a9c6045dc964657b9ec7409ed",
       "version_major": 2,
       "version_minor": 0
      },
      "text/plain": [
       "Epoch 8/80 [Train]:   0%|          | 0/57 [00:00<?, ?it/s]"
      ]
     },
     "metadata": {},
     "output_type": "display_data"
    },
    {
     "data": {
      "application/vnd.jupyter.widget-view+json": {
       "model_id": "fab89286200e478cb75d7bf2c8518c1c",
       "version_major": 2,
       "version_minor": 0
      },
      "text/plain": [
       "Epoch 8/80 [Val]  :   0%|          | 0/8 [00:00<?, ?it/s]"
      ]
     },
     "metadata": {},
     "output_type": "display_data"
    },
    {
     "name": "stdout",
     "output_type": "stream",
     "text": [
      "Train Loss: 0.4635 | Train Acc: 83.47%\n",
      "Val Loss:   0.4552 | Val Acc:   82.72%\n"
     ]
    },
    {
     "data": {
      "application/vnd.jupyter.widget-view+json": {
       "model_id": "066007f8aac54515a6f6f95474de3e62",
       "version_major": 2,
       "version_minor": 0
      },
      "text/plain": [
       "Epoch 9/80 [Train]:   0%|          | 0/57 [00:00<?, ?it/s]"
      ]
     },
     "metadata": {},
     "output_type": "display_data"
    },
    {
     "data": {
      "application/vnd.jupyter.widget-view+json": {
       "model_id": "aa777c0ed5314c03a7aa5a96d1e33cee",
       "version_major": 2,
       "version_minor": 0
      },
      "text/plain": [
       "Epoch 9/80 [Val]  :   0%|          | 0/8 [00:00<?, ?it/s]"
      ]
     },
     "metadata": {},
     "output_type": "display_data"
    },
    {
     "name": "stdout",
     "output_type": "stream",
     "text": [
      "Train Loss: 0.4603 | Train Acc: 83.56%\n",
      "Val Loss:   0.4535 | Val Acc:   83.50%\n"
     ]
    },
    {
     "data": {
      "application/vnd.jupyter.widget-view+json": {
       "model_id": "ddf63b99f85d475282f1855d085ac240",
       "version_major": 2,
       "version_minor": 0
      },
      "text/plain": [
       "Epoch 10/80 [Train]:   0%|          | 0/57 [00:00<?, ?it/s]"
      ]
     },
     "metadata": {},
     "output_type": "display_data"
    },
    {
     "data": {
      "application/vnd.jupyter.widget-view+json": {
       "model_id": "7c96212d712a42f28f50e0dab4e7386c",
       "version_major": 2,
       "version_minor": 0
      },
      "text/plain": [
       "Epoch 10/80 [Val]  :   0%|          | 0/8 [00:00<?, ?it/s]"
      ]
     },
     "metadata": {},
     "output_type": "display_data"
    },
    {
     "name": "stdout",
     "output_type": "stream",
     "text": [
      "Train Loss: 0.4605 | Train Acc: 83.21%\n",
      "Val Loss:   0.4510 | Val Acc:   84.44%\n",
      "\u001b[32m[INFO] New best model! Val Acc: 84.44%. Saving...\u001b[0m\n"
     ]
    },
    {
     "data": {
      "application/vnd.jupyter.widget-view+json": {
       "model_id": "804a354da8ad48ec97c5fe5b8ee64821",
       "version_major": 2,
       "version_minor": 0
      },
      "text/plain": [
       "Epoch 11/80 [Train]:   0%|          | 0/57 [00:00<?, ?it/s]"
      ]
     },
     "metadata": {},
     "output_type": "display_data"
    },
    {
     "data": {
      "application/vnd.jupyter.widget-view+json": {
       "model_id": "7ecfc4b047e44955a36a48190590a23d",
       "version_major": 2,
       "version_minor": 0
      },
      "text/plain": [
       "Epoch 11/80 [Val]  :   0%|          | 0/8 [00:00<?, ?it/s]"
      ]
     },
     "metadata": {},
     "output_type": "display_data"
    },
    {
     "name": "stdout",
     "output_type": "stream",
     "text": [
      "Train Loss: 0.4577 | Train Acc: 83.69%\n",
      "Val Loss:   0.4481 | Val Acc:   84.17%\n"
     ]
    },
    {
     "data": {
      "application/vnd.jupyter.widget-view+json": {
       "model_id": "6841f760859b4deaae71a48425384f32",
       "version_major": 2,
       "version_minor": 0
      },
      "text/plain": [
       "Epoch 12/80 [Train]:   0%|          | 0/57 [00:00<?, ?it/s]"
      ]
     },
     "metadata": {},
     "output_type": "display_data"
    },
    {
     "data": {
      "application/vnd.jupyter.widget-view+json": {
       "model_id": "3ba384405909456186d4b75ab0c7ea3f",
       "version_major": 2,
       "version_minor": 0
      },
      "text/plain": [
       "Epoch 12/80 [Val]  :   0%|          | 0/8 [00:00<?, ?it/s]"
      ]
     },
     "metadata": {},
     "output_type": "display_data"
    },
    {
     "name": "stdout",
     "output_type": "stream",
     "text": [
      "Train Loss: 0.4567 | Train Acc: 84.14%\n",
      "Val Loss:   0.4422 | Val Acc:   85.72%\n",
      "\u001b[32m[INFO] New best model! Val Acc: 85.72%. Saving...\u001b[0m\n"
     ]
    },
    {
     "data": {
      "application/vnd.jupyter.widget-view+json": {
       "model_id": "3c58b6b3d3e74856bf5401fad84826b9",
       "version_major": 2,
       "version_minor": 0
      },
      "text/plain": [
       "Epoch 13/80 [Train]:   0%|          | 0/57 [00:00<?, ?it/s]"
      ]
     },
     "metadata": {},
     "output_type": "display_data"
    },
    {
     "data": {
      "application/vnd.jupyter.widget-view+json": {
       "model_id": "e4aab0d836fe4cb09105a79a1ff04388",
       "version_major": 2,
       "version_minor": 0
      },
      "text/plain": [
       "Epoch 13/80 [Val]  :   0%|          | 0/8 [00:00<?, ?it/s]"
      ]
     },
     "metadata": {},
     "output_type": "display_data"
    },
    {
     "name": "stdout",
     "output_type": "stream",
     "text": [
      "Train Loss: 0.4560 | Train Acc: 83.86%\n",
      "Val Loss:   0.4419 | Val Acc:   83.94%\n"
     ]
    },
    {
     "data": {
      "application/vnd.jupyter.widget-view+json": {
       "model_id": "7cf11191aa33432d844a88da7a4d428c",
       "version_major": 2,
       "version_minor": 0
      },
      "text/plain": [
       "Epoch 14/80 [Train]:   0%|          | 0/57 [00:00<?, ?it/s]"
      ]
     },
     "metadata": {},
     "output_type": "display_data"
    },
    {
     "data": {
      "application/vnd.jupyter.widget-view+json": {
       "model_id": "318648b193b2423ba6aaa2a47dc47fab",
       "version_major": 2,
       "version_minor": 0
      },
      "text/plain": [
       "Epoch 14/80 [Val]  :   0%|          | 0/8 [00:00<?, ?it/s]"
      ]
     },
     "metadata": {},
     "output_type": "display_data"
    },
    {
     "name": "stdout",
     "output_type": "stream",
     "text": [
      "Train Loss: 0.4534 | Train Acc: 84.00%\n",
      "Val Loss:   0.4380 | Val Acc:   85.89%\n",
      "\u001b[32m[INFO] New best model! Val Acc: 85.89%. Saving...\u001b[0m\n"
     ]
    },
    {
     "data": {
      "application/vnd.jupyter.widget-view+json": {
       "model_id": "a1d9dd3d53f6446fb44a0f4927dcd8a8",
       "version_major": 2,
       "version_minor": 0
      },
      "text/plain": [
       "Epoch 15/80 [Train]:   0%|          | 0/57 [00:00<?, ?it/s]"
      ]
     },
     "metadata": {},
     "output_type": "display_data"
    },
    {
     "data": {
      "application/vnd.jupyter.widget-view+json": {
       "model_id": "30a6ee434d8b43a9b28f7f39513e9487",
       "version_major": 2,
       "version_minor": 0
      },
      "text/plain": [
       "Epoch 15/80 [Val]  :   0%|          | 0/8 [00:00<?, ?it/s]"
      ]
     },
     "metadata": {},
     "output_type": "display_data"
    },
    {
     "name": "stdout",
     "output_type": "stream",
     "text": [
      "Train Loss: 0.4501 | Train Acc: 84.86%\n",
      "Val Loss:   0.4354 | Val Acc:   86.44%\n",
      "\u001b[32m[INFO] New best model! Val Acc: 86.44%. Saving...\u001b[0m\n"
     ]
    },
    {
     "data": {
      "application/vnd.jupyter.widget-view+json": {
       "model_id": "813f3fd837b446dfb04c521551426016",
       "version_major": 2,
       "version_minor": 0
      },
      "text/plain": [
       "Epoch 16/80 [Train]:   0%|          | 0/57 [00:00<?, ?it/s]"
      ]
     },
     "metadata": {},
     "output_type": "display_data"
    },
    {
     "data": {
      "application/vnd.jupyter.widget-view+json": {
       "model_id": "0b210d96244041ab8afa9f7d631c37ff",
       "version_major": 2,
       "version_minor": 0
      },
      "text/plain": [
       "Epoch 16/80 [Val]  :   0%|          | 0/8 [00:00<?, ?it/s]"
      ]
     },
     "metadata": {},
     "output_type": "display_data"
    },
    {
     "name": "stdout",
     "output_type": "stream",
     "text": [
      "Train Loss: 0.4495 | Train Acc: 84.15%\n",
      "Val Loss:   0.4346 | Val Acc:   85.94%\n"
     ]
    },
    {
     "data": {
      "application/vnd.jupyter.widget-view+json": {
       "model_id": "a74f6f63b1884ee0ad7b4c0868ac3eec",
       "version_major": 2,
       "version_minor": 0
      },
      "text/plain": [
       "Epoch 17/80 [Train]:   0%|          | 0/57 [00:00<?, ?it/s]"
      ]
     },
     "metadata": {},
     "output_type": "display_data"
    },
    {
     "data": {
      "application/vnd.jupyter.widget-view+json": {
       "model_id": "01b782708fc8432ea9ecc1c7602f2620",
       "version_major": 2,
       "version_minor": 0
      },
      "text/plain": [
       "Epoch 17/80 [Val]  :   0%|          | 0/8 [00:00<?, ?it/s]"
      ]
     },
     "metadata": {},
     "output_type": "display_data"
    },
    {
     "name": "stdout",
     "output_type": "stream",
     "text": [
      "Train Loss: 0.4491 | Train Acc: 84.35%\n",
      "Val Loss:   0.4399 | Val Acc:   85.17%\n"
     ]
    },
    {
     "data": {
      "application/vnd.jupyter.widget-view+json": {
       "model_id": "ecdd88dc12bd402c992e0a20cd31494f",
       "version_major": 2,
       "version_minor": 0
      },
      "text/plain": [
       "Epoch 18/80 [Train]:   0%|          | 0/57 [00:00<?, ?it/s]"
      ]
     },
     "metadata": {},
     "output_type": "display_data"
    },
    {
     "data": {
      "application/vnd.jupyter.widget-view+json": {
       "model_id": "5d951dcb7fa8424583343148cd064a5d",
       "version_major": 2,
       "version_minor": 0
      },
      "text/plain": [
       "Epoch 18/80 [Val]  :   0%|          | 0/8 [00:00<?, ?it/s]"
      ]
     },
     "metadata": {},
     "output_type": "display_data"
    },
    {
     "name": "stdout",
     "output_type": "stream",
     "text": [
      "Train Loss: 0.4503 | Train Acc: 84.24%\n",
      "Val Loss:   0.4403 | Val Acc:   84.78%\n"
     ]
    },
    {
     "data": {
      "application/vnd.jupyter.widget-view+json": {
       "model_id": "ebd048e102e1459db8642c724857302b",
       "version_major": 2,
       "version_minor": 0
      },
      "text/plain": [
       "Epoch 19/80 [Train]:   0%|          | 0/57 [00:00<?, ?it/s]"
      ]
     },
     "metadata": {},
     "output_type": "display_data"
    },
    {
     "data": {
      "application/vnd.jupyter.widget-view+json": {
       "model_id": "d91c022bf3614a80b53c5b7915d67b8b",
       "version_major": 2,
       "version_minor": 0
      },
      "text/plain": [
       "Epoch 19/80 [Val]  :   0%|          | 0/8 [00:00<?, ?it/s]"
      ]
     },
     "metadata": {},
     "output_type": "display_data"
    },
    {
     "name": "stdout",
     "output_type": "stream",
     "text": [
      "Train Loss: 0.4461 | Train Acc: 85.06%\n",
      "Val Loss:   0.4358 | Val Acc:   85.11%\n"
     ]
    },
    {
     "data": {
      "application/vnd.jupyter.widget-view+json": {
       "model_id": "3778a633ab424c6f90526d31e86fdac5",
       "version_major": 2,
       "version_minor": 0
      },
      "text/plain": [
       "Epoch 20/80 [Train]:   0%|          | 0/57 [00:00<?, ?it/s]"
      ]
     },
     "metadata": {},
     "output_type": "display_data"
    },
    {
     "data": {
      "application/vnd.jupyter.widget-view+json": {
       "model_id": "7a1e757c21d44fcea3d4ab555d3f82de",
       "version_major": 2,
       "version_minor": 0
      },
      "text/plain": [
       "Epoch 20/80 [Val]  :   0%|          | 0/8 [00:00<?, ?it/s]"
      ]
     },
     "metadata": {},
     "output_type": "display_data"
    },
    {
     "name": "stdout",
     "output_type": "stream",
     "text": [
      "Train Loss: 0.4490 | Train Acc: 84.04%\n",
      "Val Loss:   0.4285 | Val Acc:   86.44%\n"
     ]
    },
    {
     "data": {
      "application/vnd.jupyter.widget-view+json": {
       "model_id": "9cca7129fb804d11ae2cc719e8a495ed",
       "version_major": 2,
       "version_minor": 0
      },
      "text/plain": [
       "Epoch 21/80 [Train]:   0%|          | 0/57 [00:00<?, ?it/s]"
      ]
     },
     "metadata": {},
     "output_type": "display_data"
    },
    {
     "data": {
      "application/vnd.jupyter.widget-view+json": {
       "model_id": "5b728aeb93e945eabcaca8b180bc2486",
       "version_major": 2,
       "version_minor": 0
      },
      "text/plain": [
       "Epoch 21/80 [Val]  :   0%|          | 0/8 [00:00<?, ?it/s]"
      ]
     },
     "metadata": {},
     "output_type": "display_data"
    },
    {
     "name": "stdout",
     "output_type": "stream",
     "text": [
      "Train Loss: 0.4471 | Train Acc: 84.29%\n",
      "Val Loss:   0.4341 | Val Acc:   85.56%\n"
     ]
    },
    {
     "data": {
      "application/vnd.jupyter.widget-view+json": {
       "model_id": "ec8efa5f97fb4d11a05d5cd6545852a7",
       "version_major": 2,
       "version_minor": 0
      },
      "text/plain": [
       "Epoch 22/80 [Train]:   0%|          | 0/57 [00:00<?, ?it/s]"
      ]
     },
     "metadata": {},
     "output_type": "display_data"
    },
    {
     "data": {
      "application/vnd.jupyter.widget-view+json": {
       "model_id": "1f387cd84f2f45b2b4974bcda8e03788",
       "version_major": 2,
       "version_minor": 0
      },
      "text/plain": [
       "Epoch 22/80 [Val]  :   0%|          | 0/8 [00:00<?, ?it/s]"
      ]
     },
     "metadata": {},
     "output_type": "display_data"
    },
    {
     "name": "stdout",
     "output_type": "stream",
     "text": [
      "Train Loss: 0.4469 | Train Acc: 84.32%\n",
      "Val Loss:   0.4337 | Val Acc:   86.61%\n",
      "\u001b[32m[INFO] New best model! Val Acc: 86.61%. Saving...\u001b[0m\n"
     ]
    },
    {
     "data": {
      "application/vnd.jupyter.widget-view+json": {
       "model_id": "1bcc9322930f409585ae9f9396b402fb",
       "version_major": 2,
       "version_minor": 0
      },
      "text/plain": [
       "Epoch 23/80 [Train]:   0%|          | 0/57 [00:00<?, ?it/s]"
      ]
     },
     "metadata": {},
     "output_type": "display_data"
    },
    {
     "data": {
      "application/vnd.jupyter.widget-view+json": {
       "model_id": "2101786b24c84dc08375535ef543160a",
       "version_major": 2,
       "version_minor": 0
      },
      "text/plain": [
       "Epoch 23/80 [Val]  :   0%|          | 0/8 [00:00<?, ?it/s]"
      ]
     },
     "metadata": {},
     "output_type": "display_data"
    },
    {
     "name": "stdout",
     "output_type": "stream",
     "text": [
      "Train Loss: 0.4435 | Train Acc: 85.11%\n",
      "Val Loss:   0.4362 | Val Acc:   85.50%\n"
     ]
    },
    {
     "data": {
      "application/vnd.jupyter.widget-view+json": {
       "model_id": "6ba01cc518574118820c85f82bc589c0",
       "version_major": 2,
       "version_minor": 0
      },
      "text/plain": [
       "Epoch 24/80 [Train]:   0%|          | 0/57 [00:00<?, ?it/s]"
      ]
     },
     "metadata": {},
     "output_type": "display_data"
    },
    {
     "data": {
      "application/vnd.jupyter.widget-view+json": {
       "model_id": "f8267cca89c340ba8ac123289fbe62b8",
       "version_major": 2,
       "version_minor": 0
      },
      "text/plain": [
       "Epoch 24/80 [Val]  :   0%|          | 0/8 [00:00<?, ?it/s]"
      ]
     },
     "metadata": {},
     "output_type": "display_data"
    },
    {
     "name": "stdout",
     "output_type": "stream",
     "text": [
      "Train Loss: 0.4440 | Train Acc: 84.60%\n",
      "Val Loss:   0.4349 | Val Acc:   85.06%\n"
     ]
    },
    {
     "data": {
      "application/vnd.jupyter.widget-view+json": {
       "model_id": "e1d01d185a3347dda73be6551e5b1d89",
       "version_major": 2,
       "version_minor": 0
      },
      "text/plain": [
       "Epoch 25/80 [Train]:   0%|          | 0/57 [00:00<?, ?it/s]"
      ]
     },
     "metadata": {},
     "output_type": "display_data"
    },
    {
     "data": {
      "application/vnd.jupyter.widget-view+json": {
       "model_id": "fbd900bbcf614910a732363662493d71",
       "version_major": 2,
       "version_minor": 0
      },
      "text/plain": [
       "Epoch 25/80 [Val]  :   0%|          | 0/8 [00:00<?, ?it/s]"
      ]
     },
     "metadata": {},
     "output_type": "display_data"
    },
    {
     "name": "stdout",
     "output_type": "stream",
     "text": [
      "Train Loss: 0.4462 | Train Acc: 84.22%\n",
      "Val Loss:   0.4328 | Val Acc:   85.44%\n"
     ]
    },
    {
     "data": {
      "application/vnd.jupyter.widget-view+json": {
       "model_id": "3d8c70935de54c25a6c085b0515d9f4a",
       "version_major": 2,
       "version_minor": 0
      },
      "text/plain": [
       "Epoch 26/80 [Train]:   0%|          | 0/57 [00:00<?, ?it/s]"
      ]
     },
     "metadata": {},
     "output_type": "display_data"
    },
    {
     "data": {
      "application/vnd.jupyter.widget-view+json": {
       "model_id": "116184ec225a4e85b347e5413d8a971a",
       "version_major": 2,
       "version_minor": 0
      },
      "text/plain": [
       "Epoch 26/80 [Val]  :   0%|          | 0/8 [00:00<?, ?it/s]"
      ]
     },
     "metadata": {},
     "output_type": "display_data"
    },
    {
     "name": "stdout",
     "output_type": "stream",
     "text": [
      "Train Loss: 0.4444 | Train Acc: 84.38%\n",
      "Val Loss:   0.4349 | Val Acc:   85.11%\n"
     ]
    },
    {
     "data": {
      "application/vnd.jupyter.widget-view+json": {
       "model_id": "fc496b77abd44a0a81cceb28fd265255",
       "version_major": 2,
       "version_minor": 0
      },
      "text/plain": [
       "Epoch 27/80 [Train]:   0%|          | 0/57 [00:00<?, ?it/s]"
      ]
     },
     "metadata": {},
     "output_type": "display_data"
    },
    {
     "data": {
      "application/vnd.jupyter.widget-view+json": {
       "model_id": "e18aeb7490da40309755bad60a1d2222",
       "version_major": 2,
       "version_minor": 0
      },
      "text/plain": [
       "Epoch 27/80 [Val]  :   0%|          | 0/8 [00:00<?, ?it/s]"
      ]
     },
     "metadata": {},
     "output_type": "display_data"
    },
    {
     "name": "stdout",
     "output_type": "stream",
     "text": [
      "Train Loss: 0.4411 | Train Acc: 85.33%\n",
      "Val Loss:   0.4332 | Val Acc:   85.50%\n"
     ]
    },
    {
     "data": {
      "application/vnd.jupyter.widget-view+json": {
       "model_id": "30a703fd8f7e430b9cc752953b5783b7",
       "version_major": 2,
       "version_minor": 0
      },
      "text/plain": [
       "Epoch 28/80 [Train]:   0%|          | 0/57 [00:00<?, ?it/s]"
      ]
     },
     "metadata": {},
     "output_type": "display_data"
    },
    {
     "data": {
      "application/vnd.jupyter.widget-view+json": {
       "model_id": "0ad468b612574153abfdc43422854574",
       "version_major": 2,
       "version_minor": 0
      },
      "text/plain": [
       "Epoch 28/80 [Val]  :   0%|          | 0/8 [00:00<?, ?it/s]"
      ]
     },
     "metadata": {},
     "output_type": "display_data"
    },
    {
     "name": "stdout",
     "output_type": "stream",
     "text": [
      "Train Loss: 0.4435 | Train Acc: 84.96%\n",
      "Val Loss:   0.4314 | Val Acc:   85.89%\n"
     ]
    },
    {
     "data": {
      "application/vnd.jupyter.widget-view+json": {
       "model_id": "15d6c13aea3547cebf6a712ab7eec74d",
       "version_major": 2,
       "version_minor": 0
      },
      "text/plain": [
       "Epoch 29/80 [Train]:   0%|          | 0/57 [00:00<?, ?it/s]"
      ]
     },
     "metadata": {},
     "output_type": "display_data"
    },
    {
     "data": {
      "application/vnd.jupyter.widget-view+json": {
       "model_id": "a626c75aa2e14a80ba8bfac725eda4e9",
       "version_major": 2,
       "version_minor": 0
      },
      "text/plain": [
       "Epoch 29/80 [Val]  :   0%|          | 0/8 [00:00<?, ?it/s]"
      ]
     },
     "metadata": {},
     "output_type": "display_data"
    },
    {
     "name": "stdout",
     "output_type": "stream",
     "text": [
      "Train Loss: 0.4433 | Train Acc: 84.99%\n",
      "Val Loss:   0.4338 | Val Acc:   86.22%\n"
     ]
    },
    {
     "data": {
      "application/vnd.jupyter.widget-view+json": {
       "model_id": "ff04d5869aa54b7386f1907aeccb0e2d",
       "version_major": 2,
       "version_minor": 0
      },
      "text/plain": [
       "Epoch 30/80 [Train]:   0%|          | 0/57 [00:00<?, ?it/s]"
      ]
     },
     "metadata": {},
     "output_type": "display_data"
    },
    {
     "data": {
      "application/vnd.jupyter.widget-view+json": {
       "model_id": "10abe7d9961d463fabf3c2e0f1222dce",
       "version_major": 2,
       "version_minor": 0
      },
      "text/plain": [
       "Epoch 30/80 [Val]  :   0%|          | 0/8 [00:00<?, ?it/s]"
      ]
     },
     "metadata": {},
     "output_type": "display_data"
    },
    {
     "name": "stdout",
     "output_type": "stream",
     "text": [
      "Train Loss: 0.4431 | Train Acc: 84.67%\n",
      "Val Loss:   0.4297 | Val Acc:   86.44%\n"
     ]
    },
    {
     "data": {
      "application/vnd.jupyter.widget-view+json": {
       "model_id": "dd7cb5223dbd496f8fa6e47418a0b721",
       "version_major": 2,
       "version_minor": 0
      },
      "text/plain": [
       "Epoch 31/80 [Train]:   0%|          | 0/57 [00:00<?, ?it/s]"
      ]
     },
     "metadata": {},
     "output_type": "display_data"
    },
    {
     "data": {
      "application/vnd.jupyter.widget-view+json": {
       "model_id": "d1d9aac6d82b431d9462662105cd9856",
       "version_major": 2,
       "version_minor": 0
      },
      "text/plain": [
       "Epoch 31/80 [Val]  :   0%|          | 0/8 [00:00<?, ?it/s]"
      ]
     },
     "metadata": {},
     "output_type": "display_data"
    },
    {
     "name": "stdout",
     "output_type": "stream",
     "text": [
      "Train Loss: 0.4406 | Train Acc: 85.46%\n",
      "Val Loss:   0.4291 | Val Acc:   85.28%\n"
     ]
    },
    {
     "data": {
      "application/vnd.jupyter.widget-view+json": {
       "model_id": "39cc409b856141ee8f9342542b5437bb",
       "version_major": 2,
       "version_minor": 0
      },
      "text/plain": [
       "Epoch 32/80 [Train]:   0%|          | 0/57 [00:00<?, ?it/s]"
      ]
     },
     "metadata": {},
     "output_type": "display_data"
    },
    {
     "data": {
      "application/vnd.jupyter.widget-view+json": {
       "model_id": "73125fe4a186446898b411293c459f77",
       "version_major": 2,
       "version_minor": 0
      },
      "text/plain": [
       "Epoch 32/80 [Val]  :   0%|          | 0/8 [00:00<?, ?it/s]"
      ]
     },
     "metadata": {},
     "output_type": "display_data"
    },
    {
     "name": "stdout",
     "output_type": "stream",
     "text": [
      "Train Loss: 0.4404 | Train Acc: 85.06%\n",
      "Val Loss:   0.4334 | Val Acc:   84.78%\n"
     ]
    },
    {
     "data": {
      "application/vnd.jupyter.widget-view+json": {
       "model_id": "9d73733f3b9247f2a91cbb62162f748d",
       "version_major": 2,
       "version_minor": 0
      },
      "text/plain": [
       "Epoch 33/80 [Train]:   0%|          | 0/57 [00:00<?, ?it/s]"
      ]
     },
     "metadata": {},
     "output_type": "display_data"
    },
    {
     "data": {
      "application/vnd.jupyter.widget-view+json": {
       "model_id": "a8d122bd52b14e68aee79ecb683f5531",
       "version_major": 2,
       "version_minor": 0
      },
      "text/plain": [
       "Epoch 33/80 [Val]  :   0%|          | 0/8 [00:00<?, ?it/s]"
      ]
     },
     "metadata": {},
     "output_type": "display_data"
    },
    {
     "name": "stdout",
     "output_type": "stream",
     "text": [
      "Train Loss: 0.4428 | Train Acc: 84.78%\n",
      "Val Loss:   0.4259 | Val Acc:   86.56%\n"
     ]
    },
    {
     "data": {
      "application/vnd.jupyter.widget-view+json": {
       "model_id": "61be95c5f2ca4fbbbd5c52b3e244e715",
       "version_major": 2,
       "version_minor": 0
      },
      "text/plain": [
       "Epoch 34/80 [Train]:   0%|          | 0/57 [00:00<?, ?it/s]"
      ]
     },
     "metadata": {},
     "output_type": "display_data"
    },
    {
     "data": {
      "application/vnd.jupyter.widget-view+json": {
       "model_id": "d82704397c6242a18980b9c8bb81181e",
       "version_major": 2,
       "version_minor": 0
      },
      "text/plain": [
       "Epoch 34/80 [Val]  :   0%|          | 0/8 [00:00<?, ?it/s]"
      ]
     },
     "metadata": {},
     "output_type": "display_data"
    },
    {
     "name": "stdout",
     "output_type": "stream",
     "text": [
      "Train Loss: 0.4430 | Train Acc: 84.86%\n",
      "Val Loss:   0.4386 | Val Acc:   84.89%\n"
     ]
    },
    {
     "data": {
      "application/vnd.jupyter.widget-view+json": {
       "model_id": "0109bd1ba91f4586ae94456d40d8953b",
       "version_major": 2,
       "version_minor": 0
      },
      "text/plain": [
       "Epoch 35/80 [Train]:   0%|          | 0/57 [00:00<?, ?it/s]"
      ]
     },
     "metadata": {},
     "output_type": "display_data"
    },
    {
     "data": {
      "application/vnd.jupyter.widget-view+json": {
       "model_id": "67e8238ac8064ae1b2f3c0caef8481b6",
       "version_major": 2,
       "version_minor": 0
      },
      "text/plain": [
       "Epoch 35/80 [Val]  :   0%|          | 0/8 [00:00<?, ?it/s]"
      ]
     },
     "metadata": {},
     "output_type": "display_data"
    },
    {
     "name": "stdout",
     "output_type": "stream",
     "text": [
      "Train Loss: 0.4399 | Train Acc: 85.03%\n",
      "Val Loss:   0.4353 | Val Acc:   84.06%\n"
     ]
    },
    {
     "data": {
      "application/vnd.jupyter.widget-view+json": {
       "model_id": "ee0281d020044d72ad4cf506f1ae689c",
       "version_major": 2,
       "version_minor": 0
      },
      "text/plain": [
       "Epoch 36/80 [Train]:   0%|          | 0/57 [00:00<?, ?it/s]"
      ]
     },
     "metadata": {},
     "output_type": "display_data"
    },
    {
     "data": {
      "application/vnd.jupyter.widget-view+json": {
       "model_id": "ee7bc72859d542c3a9c5c30e8d8d590f",
       "version_major": 2,
       "version_minor": 0
      },
      "text/plain": [
       "Epoch 36/80 [Val]  :   0%|          | 0/8 [00:00<?, ?it/s]"
      ]
     },
     "metadata": {},
     "output_type": "display_data"
    },
    {
     "name": "stdout",
     "output_type": "stream",
     "text": [
      "Train Loss: 0.4412 | Train Acc: 84.92%\n",
      "Val Loss:   0.4263 | Val Acc:   86.28%\n"
     ]
    },
    {
     "data": {
      "application/vnd.jupyter.widget-view+json": {
       "model_id": "39e7a87434754598806153f3a0b359b6",
       "version_major": 2,
       "version_minor": 0
      },
      "text/plain": [
       "Epoch 37/80 [Train]:   0%|          | 0/57 [00:00<?, ?it/s]"
      ]
     },
     "metadata": {},
     "output_type": "display_data"
    },
    {
     "data": {
      "application/vnd.jupyter.widget-view+json": {
       "model_id": "adc98d9ccdc34bb1bc412ff601e0ef84",
       "version_major": 2,
       "version_minor": 0
      },
      "text/plain": [
       "Epoch 37/80 [Val]  :   0%|          | 0/8 [00:00<?, ?it/s]"
      ]
     },
     "metadata": {},
     "output_type": "display_data"
    },
    {
     "name": "stdout",
     "output_type": "stream",
     "text": [
      "Train Loss: 0.4424 | Train Acc: 84.93%\n",
      "Val Loss:   0.4308 | Val Acc:   86.72%\n",
      "\u001b[32m[INFO] New best model! Val Acc: 86.72%. Saving...\u001b[0m\n"
     ]
    },
    {
     "data": {
      "application/vnd.jupyter.widget-view+json": {
       "model_id": "6d86acdd3cc643f79a631684d5cd45e8",
       "version_major": 2,
       "version_minor": 0
      },
      "text/plain": [
       "Epoch 38/80 [Train]:   0%|          | 0/57 [00:00<?, ?it/s]"
      ]
     },
     "metadata": {},
     "output_type": "display_data"
    },
    {
     "data": {
      "application/vnd.jupyter.widget-view+json": {
       "model_id": "dbccc00fc2034c03b8345dd95727190b",
       "version_major": 2,
       "version_minor": 0
      },
      "text/plain": [
       "Epoch 38/80 [Val]  :   0%|          | 0/8 [00:00<?, ?it/s]"
      ]
     },
     "metadata": {},
     "output_type": "display_data"
    },
    {
     "name": "stdout",
     "output_type": "stream",
     "text": [
      "Train Loss: 0.4389 | Train Acc: 85.28%\n",
      "Val Loss:   0.4266 | Val Acc:   86.61%\n"
     ]
    },
    {
     "data": {
      "application/vnd.jupyter.widget-view+json": {
       "model_id": "ae9400397bde44b1a72fe157a19f13df",
       "version_major": 2,
       "version_minor": 0
      },
      "text/plain": [
       "Epoch 39/80 [Train]:   0%|          | 0/57 [00:00<?, ?it/s]"
      ]
     },
     "metadata": {},
     "output_type": "display_data"
    },
    {
     "data": {
      "application/vnd.jupyter.widget-view+json": {
       "model_id": "6a15fba181ab4d0cb8497a0055b4ed19",
       "version_major": 2,
       "version_minor": 0
      },
      "text/plain": [
       "Epoch 39/80 [Val]  :   0%|          | 0/8 [00:00<?, ?it/s]"
      ]
     },
     "metadata": {},
     "output_type": "display_data"
    },
    {
     "name": "stdout",
     "output_type": "stream",
     "text": [
      "Train Loss: 0.4429 | Train Acc: 84.81%\n",
      "Val Loss:   0.4287 | Val Acc:   85.83%\n"
     ]
    },
    {
     "data": {
      "application/vnd.jupyter.widget-view+json": {
       "model_id": "cd1e39cbd1e3426d9e3204127f36b2cc",
       "version_major": 2,
       "version_minor": 0
      },
      "text/plain": [
       "Epoch 40/80 [Train]:   0%|          | 0/57 [00:00<?, ?it/s]"
      ]
     },
     "metadata": {},
     "output_type": "display_data"
    },
    {
     "data": {
      "application/vnd.jupyter.widget-view+json": {
       "model_id": "e62c00218842457cbcdf7b0f2af5006b",
       "version_major": 2,
       "version_minor": 0
      },
      "text/plain": [
       "Epoch 40/80 [Val]  :   0%|          | 0/8 [00:00<?, ?it/s]"
      ]
     },
     "metadata": {},
     "output_type": "display_data"
    },
    {
     "name": "stdout",
     "output_type": "stream",
     "text": [
      "Train Loss: 0.4408 | Train Acc: 84.67%\n",
      "Val Loss:   0.4277 | Val Acc:   86.00%\n"
     ]
    },
    {
     "data": {
      "application/vnd.jupyter.widget-view+json": {
       "model_id": "d49ee12858224e03baf5dc211a6f8ec1",
       "version_major": 2,
       "version_minor": 0
      },
      "text/plain": [
       "Epoch 41/80 [Train]:   0%|          | 0/57 [00:00<?, ?it/s]"
      ]
     },
     "metadata": {},
     "output_type": "display_data"
    },
    {
     "data": {
      "application/vnd.jupyter.widget-view+json": {
       "model_id": "2ad8a6c3d32046f6984c86b67d8dcf8d",
       "version_major": 2,
       "version_minor": 0
      },
      "text/plain": [
       "Epoch 41/80 [Val]  :   0%|          | 0/8 [00:00<?, ?it/s]"
      ]
     },
     "metadata": {},
     "output_type": "display_data"
    },
    {
     "name": "stdout",
     "output_type": "stream",
     "text": [
      "Train Loss: 0.4413 | Train Acc: 85.15%\n",
      "Val Loss:   0.4285 | Val Acc:   86.28%\n"
     ]
    },
    {
     "data": {
      "application/vnd.jupyter.widget-view+json": {
       "model_id": "15b750b3c3394d3494df8e8940333063",
       "version_major": 2,
       "version_minor": 0
      },
      "text/plain": [
       "Epoch 42/80 [Train]:   0%|          | 0/57 [00:00<?, ?it/s]"
      ]
     },
     "metadata": {},
     "output_type": "display_data"
    },
    {
     "data": {
      "application/vnd.jupyter.widget-view+json": {
       "model_id": "9b395e36c966479d91c94c3dd94d5c43",
       "version_major": 2,
       "version_minor": 0
      },
      "text/plain": [
       "Epoch 42/80 [Val]  :   0%|          | 0/8 [00:00<?, ?it/s]"
      ]
     },
     "metadata": {},
     "output_type": "display_data"
    },
    {
     "name": "stdout",
     "output_type": "stream",
     "text": [
      "Train Loss: 0.4430 | Train Acc: 84.72%\n",
      "Val Loss:   0.4256 | Val Acc:   86.94%\n",
      "\u001b[32m[INFO] New best model! Val Acc: 86.94%. Saving...\u001b[0m\n"
     ]
    },
    {
     "data": {
      "application/vnd.jupyter.widget-view+json": {
       "model_id": "629a730e72c44704bf7e3c21b14a328a",
       "version_major": 2,
       "version_minor": 0
      },
      "text/plain": [
       "Epoch 43/80 [Train]:   0%|          | 0/57 [00:00<?, ?it/s]"
      ]
     },
     "metadata": {},
     "output_type": "display_data"
    },
    {
     "data": {
      "application/vnd.jupyter.widget-view+json": {
       "model_id": "8c43490d394043f9b4dc5370df82a44d",
       "version_major": 2,
       "version_minor": 0
      },
      "text/plain": [
       "Epoch 43/80 [Val]  :   0%|          | 0/8 [00:00<?, ?it/s]"
      ]
     },
     "metadata": {},
     "output_type": "display_data"
    },
    {
     "name": "stdout",
     "output_type": "stream",
     "text": [
      "Train Loss: 0.4367 | Train Acc: 85.42%\n",
      "Val Loss:   0.4389 | Val Acc:   84.83%\n"
     ]
    },
    {
     "data": {
      "application/vnd.jupyter.widget-view+json": {
       "model_id": "e350fac663264c858e6589092ae7989d",
       "version_major": 2,
       "version_minor": 0
      },
      "text/plain": [
       "Epoch 44/80 [Train]:   0%|          | 0/57 [00:00<?, ?it/s]"
      ]
     },
     "metadata": {},
     "output_type": "display_data"
    },
    {
     "data": {
      "application/vnd.jupyter.widget-view+json": {
       "model_id": "439514b48b304becacb25f7d02f68bc6",
       "version_major": 2,
       "version_minor": 0
      },
      "text/plain": [
       "Epoch 44/80 [Val]  :   0%|          | 0/8 [00:00<?, ?it/s]"
      ]
     },
     "metadata": {},
     "output_type": "display_data"
    },
    {
     "name": "stdout",
     "output_type": "stream",
     "text": [
      "Train Loss: 0.4404 | Train Acc: 85.03%\n",
      "Val Loss:   0.4252 | Val Acc:   85.72%\n"
     ]
    },
    {
     "data": {
      "application/vnd.jupyter.widget-view+json": {
       "model_id": "24cec008d9634b2ebafd5dd3e79061b4",
       "version_major": 2,
       "version_minor": 0
      },
      "text/plain": [
       "Epoch 45/80 [Train]:   0%|          | 0/57 [00:00<?, ?it/s]"
      ]
     },
     "metadata": {},
     "output_type": "display_data"
    },
    {
     "data": {
      "application/vnd.jupyter.widget-view+json": {
       "model_id": "a9835a43f4914916a66b1e97ea408636",
       "version_major": 2,
       "version_minor": 0
      },
      "text/plain": [
       "Epoch 45/80 [Val]  :   0%|          | 0/8 [00:00<?, ?it/s]"
      ]
     },
     "metadata": {},
     "output_type": "display_data"
    },
    {
     "name": "stdout",
     "output_type": "stream",
     "text": [
      "Train Loss: 0.4389 | Train Acc: 85.39%\n",
      "Val Loss:   0.4325 | Val Acc:   84.61%\n"
     ]
    },
    {
     "data": {
      "application/vnd.jupyter.widget-view+json": {
       "model_id": "5014232288d8469dbc3242eeb2dfd412",
       "version_major": 2,
       "version_minor": 0
      },
      "text/plain": [
       "Epoch 46/80 [Train]:   0%|          | 0/57 [00:00<?, ?it/s]"
      ]
     },
     "metadata": {},
     "output_type": "display_data"
    },
    {
     "data": {
      "application/vnd.jupyter.widget-view+json": {
       "model_id": "f9cba091e7d341789fbfaf66f90ba95a",
       "version_major": 2,
       "version_minor": 0
      },
      "text/plain": [
       "Epoch 46/80 [Val]  :   0%|          | 0/8 [00:00<?, ?it/s]"
      ]
     },
     "metadata": {},
     "output_type": "display_data"
    },
    {
     "name": "stdout",
     "output_type": "stream",
     "text": [
      "Train Loss: 0.4389 | Train Acc: 85.43%\n",
      "Val Loss:   0.4305 | Val Acc:   85.61%\n"
     ]
    },
    {
     "data": {
      "application/vnd.jupyter.widget-view+json": {
       "model_id": "d8a32d012030456ea6446552077bd7c2",
       "version_major": 2,
       "version_minor": 0
      },
      "text/plain": [
       "Epoch 47/80 [Train]:   0%|          | 0/57 [00:00<?, ?it/s]"
      ]
     },
     "metadata": {},
     "output_type": "display_data"
    },
    {
     "data": {
      "application/vnd.jupyter.widget-view+json": {
       "model_id": "2f4a572ff005491eb84a41c2fb3dded1",
       "version_major": 2,
       "version_minor": 0
      },
      "text/plain": [
       "Epoch 47/80 [Val]  :   0%|          | 0/8 [00:00<?, ?it/s]"
      ]
     },
     "metadata": {},
     "output_type": "display_data"
    },
    {
     "name": "stdout",
     "output_type": "stream",
     "text": [
      "Train Loss: 0.4413 | Train Acc: 84.69%\n",
      "Val Loss:   0.4285 | Val Acc:   85.39%\n"
     ]
    },
    {
     "data": {
      "application/vnd.jupyter.widget-view+json": {
       "model_id": "3c3a9b802c26426e9790b00e27f0e6e9",
       "version_major": 2,
       "version_minor": 0
      },
      "text/plain": [
       "Epoch 48/80 [Train]:   0%|          | 0/57 [00:00<?, ?it/s]"
      ]
     },
     "metadata": {},
     "output_type": "display_data"
    },
    {
     "data": {
      "application/vnd.jupyter.widget-view+json": {
       "model_id": "95772825c7cb47118f019be9bfbaa172",
       "version_major": 2,
       "version_minor": 0
      },
      "text/plain": [
       "Epoch 48/80 [Val]  :   0%|          | 0/8 [00:00<?, ?it/s]"
      ]
     },
     "metadata": {},
     "output_type": "display_data"
    },
    {
     "name": "stdout",
     "output_type": "stream",
     "text": [
      "Train Loss: 0.4384 | Train Acc: 85.51%\n",
      "Val Loss:   0.4270 | Val Acc:   86.28%\n"
     ]
    },
    {
     "data": {
      "application/vnd.jupyter.widget-view+json": {
       "model_id": "4b46b7615a61499bae95d26b8a52faec",
       "version_major": 2,
       "version_minor": 0
      },
      "text/plain": [
       "Epoch 49/80 [Train]:   0%|          | 0/57 [00:00<?, ?it/s]"
      ]
     },
     "metadata": {},
     "output_type": "display_data"
    },
    {
     "data": {
      "application/vnd.jupyter.widget-view+json": {
       "model_id": "0d0ff16796ed46e2ad50bfa73735d2f0",
       "version_major": 2,
       "version_minor": 0
      },
      "text/plain": [
       "Epoch 49/80 [Val]  :   0%|          | 0/8 [00:00<?, ?it/s]"
      ]
     },
     "metadata": {},
     "output_type": "display_data"
    },
    {
     "name": "stdout",
     "output_type": "stream",
     "text": [
      "Train Loss: 0.4384 | Train Acc: 85.33%\n",
      "Val Loss:   0.4315 | Val Acc:   85.83%\n"
     ]
    },
    {
     "data": {
      "application/vnd.jupyter.widget-view+json": {
       "model_id": "063b68708462450f931f248493d46418",
       "version_major": 2,
       "version_minor": 0
      },
      "text/plain": [
       "Epoch 50/80 [Train]:   0%|          | 0/57 [00:00<?, ?it/s]"
      ]
     },
     "metadata": {},
     "output_type": "display_data"
    },
    {
     "data": {
      "application/vnd.jupyter.widget-view+json": {
       "model_id": "238b2916b9044fe7becd55c137e6a72b",
       "version_major": 2,
       "version_minor": 0
      },
      "text/plain": [
       "Epoch 50/80 [Val]  :   0%|          | 0/8 [00:00<?, ?it/s]"
      ]
     },
     "metadata": {},
     "output_type": "display_data"
    },
    {
     "name": "stdout",
     "output_type": "stream",
     "text": [
      "Train Loss: 0.4380 | Train Acc: 85.46%\n",
      "Val Loss:   0.4268 | Val Acc:   85.11%\n"
     ]
    },
    {
     "data": {
      "application/vnd.jupyter.widget-view+json": {
       "model_id": "2e9fde2f93f943babefad8c2391572f5",
       "version_major": 2,
       "version_minor": 0
      },
      "text/plain": [
       "Epoch 51/80 [Train]:   0%|          | 0/57 [00:00<?, ?it/s]"
      ]
     },
     "metadata": {},
     "output_type": "display_data"
    },
    {
     "data": {
      "application/vnd.jupyter.widget-view+json": {
       "model_id": "4c94efa84ef14a70b62553c48443b646",
       "version_major": 2,
       "version_minor": 0
      },
      "text/plain": [
       "Epoch 51/80 [Val]  :   0%|          | 0/8 [00:00<?, ?it/s]"
      ]
     },
     "metadata": {},
     "output_type": "display_data"
    },
    {
     "name": "stdout",
     "output_type": "stream",
     "text": [
      "Train Loss: 0.4402 | Train Acc: 84.74%\n",
      "Val Loss:   0.4283 | Val Acc:   86.00%\n"
     ]
    },
    {
     "data": {
      "application/vnd.jupyter.widget-view+json": {
       "model_id": "c990666f47544212aa73a902bb8f2331",
       "version_major": 2,
       "version_minor": 0
      },
      "text/plain": [
       "Epoch 52/80 [Train]:   0%|          | 0/57 [00:00<?, ?it/s]"
      ]
     },
     "metadata": {},
     "output_type": "display_data"
    },
    {
     "data": {
      "application/vnd.jupyter.widget-view+json": {
       "model_id": "681661915ab14091b2f7b7df3911bded",
       "version_major": 2,
       "version_minor": 0
      },
      "text/plain": [
       "Epoch 52/80 [Val]  :   0%|          | 0/8 [00:00<?, ?it/s]"
      ]
     },
     "metadata": {},
     "output_type": "display_data"
    },
    {
     "name": "stdout",
     "output_type": "stream",
     "text": [
      "Train Loss: 0.4374 | Train Acc: 85.32%\n",
      "Val Loss:   0.4380 | Val Acc:   84.67%\n"
     ]
    },
    {
     "data": {
      "application/vnd.jupyter.widget-view+json": {
       "model_id": "0ff9e39d79ca4d48bee5577a57ef6e8a",
       "version_major": 2,
       "version_minor": 0
      },
      "text/plain": [
       "Epoch 53/80 [Train]:   0%|          | 0/57 [00:00<?, ?it/s]"
      ]
     },
     "metadata": {},
     "output_type": "display_data"
    },
    {
     "data": {
      "application/vnd.jupyter.widget-view+json": {
       "model_id": "d217b9aba2e3425f954b6547e4d95de0",
       "version_major": 2,
       "version_minor": 0
      },
      "text/plain": [
       "Epoch 53/80 [Val]  :   0%|          | 0/8 [00:00<?, ?it/s]"
      ]
     },
     "metadata": {},
     "output_type": "display_data"
    },
    {
     "name": "stdout",
     "output_type": "stream",
     "text": [
      "Train Loss: 0.4391 | Train Acc: 85.79%\n",
      "Val Loss:   0.4237 | Val Acc:   86.72%\n"
     ]
    },
    {
     "data": {
      "application/vnd.jupyter.widget-view+json": {
       "model_id": "9801d8eae8704eaf82f4870a7b5674e5",
       "version_major": 2,
       "version_minor": 0
      },
      "text/plain": [
       "Epoch 54/80 [Train]:   0%|          | 0/57 [00:00<?, ?it/s]"
      ]
     },
     "metadata": {},
     "output_type": "display_data"
    },
    {
     "data": {
      "application/vnd.jupyter.widget-view+json": {
       "model_id": "4738c80c3d114e608dfb62366dae2898",
       "version_major": 2,
       "version_minor": 0
      },
      "text/plain": [
       "Epoch 54/80 [Val]  :   0%|          | 0/8 [00:00<?, ?it/s]"
      ]
     },
     "metadata": {},
     "output_type": "display_data"
    },
    {
     "name": "stdout",
     "output_type": "stream",
     "text": [
      "Train Loss: 0.4343 | Train Acc: 86.22%\n",
      "Val Loss:   0.4307 | Val Acc:   85.61%\n"
     ]
    },
    {
     "data": {
      "application/vnd.jupyter.widget-view+json": {
       "model_id": "e341617b27814ed9863f089b514db092",
       "version_major": 2,
       "version_minor": 0
      },
      "text/plain": [
       "Epoch 55/80 [Train]:   0%|          | 0/57 [00:00<?, ?it/s]"
      ]
     },
     "metadata": {},
     "output_type": "display_data"
    },
    {
     "data": {
      "application/vnd.jupyter.widget-view+json": {
       "model_id": "6c448bfea8284c6cb4beec5ca3ab7386",
       "version_major": 2,
       "version_minor": 0
      },
      "text/plain": [
       "Epoch 55/80 [Val]  :   0%|          | 0/8 [00:00<?, ?it/s]"
      ]
     },
     "metadata": {},
     "output_type": "display_data"
    },
    {
     "name": "stdout",
     "output_type": "stream",
     "text": [
      "Train Loss: 0.4403 | Train Acc: 84.83%\n",
      "Val Loss:   0.4232 | Val Acc:   86.39%\n"
     ]
    },
    {
     "data": {
      "application/vnd.jupyter.widget-view+json": {
       "model_id": "ca2d2c666ded42a0a5951e518995bba6",
       "version_major": 2,
       "version_minor": 0
      },
      "text/plain": [
       "Epoch 56/80 [Train]:   0%|          | 0/57 [00:00<?, ?it/s]"
      ]
     },
     "metadata": {},
     "output_type": "display_data"
    },
    {
     "data": {
      "application/vnd.jupyter.widget-view+json": {
       "model_id": "e5a5af6c5cf743f4a8b88dde367edad9",
       "version_major": 2,
       "version_minor": 0
      },
      "text/plain": [
       "Epoch 56/80 [Val]  :   0%|          | 0/8 [00:00<?, ?it/s]"
      ]
     },
     "metadata": {},
     "output_type": "display_data"
    },
    {
     "name": "stdout",
     "output_type": "stream",
     "text": [
      "Train Loss: 0.4392 | Train Acc: 85.18%\n",
      "Val Loss:   0.4314 | Val Acc:   86.06%\n"
     ]
    },
    {
     "data": {
      "application/vnd.jupyter.widget-view+json": {
       "model_id": "df465a1d3bb24856bcb9c72cfc699d96",
       "version_major": 2,
       "version_minor": 0
      },
      "text/plain": [
       "Epoch 57/80 [Train]:   0%|          | 0/57 [00:00<?, ?it/s]"
      ]
     },
     "metadata": {},
     "output_type": "display_data"
    },
    {
     "data": {
      "application/vnd.jupyter.widget-view+json": {
       "model_id": "cd343d1fff994538b5f31385c68818c6",
       "version_major": 2,
       "version_minor": 0
      },
      "text/plain": [
       "Epoch 57/80 [Val]  :   0%|          | 0/8 [00:00<?, ?it/s]"
      ]
     },
     "metadata": {},
     "output_type": "display_data"
    },
    {
     "name": "stdout",
     "output_type": "stream",
     "text": [
      "Train Loss: 0.4363 | Train Acc: 85.92%\n",
      "Val Loss:   0.4215 | Val Acc:   87.33%\n",
      "\u001b[32m[INFO] New best model! Val Acc: 87.33%. Saving...\u001b[0m\n"
     ]
    },
    {
     "data": {
      "application/vnd.jupyter.widget-view+json": {
       "model_id": "29573ffa3638488384f0a85f3a0f3110",
       "version_major": 2,
       "version_minor": 0
      },
      "text/plain": [
       "Epoch 58/80 [Train]:   0%|          | 0/57 [00:00<?, ?it/s]"
      ]
     },
     "metadata": {},
     "output_type": "display_data"
    },
    {
     "data": {
      "application/vnd.jupyter.widget-view+json": {
       "model_id": "16df2f8d2b8b47a4a0f4196ac9ae3cc9",
       "version_major": 2,
       "version_minor": 0
      },
      "text/plain": [
       "Epoch 58/80 [Val]  :   0%|          | 0/8 [00:00<?, ?it/s]"
      ]
     },
     "metadata": {},
     "output_type": "display_data"
    },
    {
     "name": "stdout",
     "output_type": "stream",
     "text": [
      "Train Loss: 0.4377 | Train Acc: 85.42%\n",
      "Val Loss:   0.4246 | Val Acc:   86.17%\n"
     ]
    },
    {
     "data": {
      "application/vnd.jupyter.widget-view+json": {
       "model_id": "12cf022d037645b1ac203942a9cde996",
       "version_major": 2,
       "version_minor": 0
      },
      "text/plain": [
       "Epoch 59/80 [Train]:   0%|          | 0/57 [00:00<?, ?it/s]"
      ]
     },
     "metadata": {},
     "output_type": "display_data"
    },
    {
     "data": {
      "application/vnd.jupyter.widget-view+json": {
       "model_id": "2a386487baf241d48ea438c5bc1e267d",
       "version_major": 2,
       "version_minor": 0
      },
      "text/plain": [
       "Epoch 59/80 [Val]  :   0%|          | 0/8 [00:00<?, ?it/s]"
      ]
     },
     "metadata": {},
     "output_type": "display_data"
    },
    {
     "name": "stdout",
     "output_type": "stream",
     "text": [
      "Train Loss: 0.4434 | Train Acc: 84.26%\n",
      "Val Loss:   0.4322 | Val Acc:   85.11%\n"
     ]
    },
    {
     "data": {
      "application/vnd.jupyter.widget-view+json": {
       "model_id": "041805bc16f243d2883166e12c4858e5",
       "version_major": 2,
       "version_minor": 0
      },
      "text/plain": [
       "Epoch 60/80 [Train]:   0%|          | 0/57 [00:00<?, ?it/s]"
      ]
     },
     "metadata": {},
     "output_type": "display_data"
    },
    {
     "data": {
      "application/vnd.jupyter.widget-view+json": {
       "model_id": "889521840da94a85b6004c2a70e60b50",
       "version_major": 2,
       "version_minor": 0
      },
      "text/plain": [
       "Epoch 60/80 [Val]  :   0%|          | 0/8 [00:00<?, ?it/s]"
      ]
     },
     "metadata": {},
     "output_type": "display_data"
    },
    {
     "name": "stdout",
     "output_type": "stream",
     "text": [
      "Train Loss: 0.4383 | Train Acc: 85.11%\n",
      "Val Loss:   0.4266 | Val Acc:   86.78%\n"
     ]
    },
    {
     "data": {
      "application/vnd.jupyter.widget-view+json": {
       "model_id": "4e0a070888f844d1acfb410a4e038d9a",
       "version_major": 2,
       "version_minor": 0
      },
      "text/plain": [
       "Epoch 61/80 [Train]:   0%|          | 0/57 [00:00<?, ?it/s]"
      ]
     },
     "metadata": {},
     "output_type": "display_data"
    },
    {
     "data": {
      "application/vnd.jupyter.widget-view+json": {
       "model_id": "09223390027541ffa0afa80780019efe",
       "version_major": 2,
       "version_minor": 0
      },
      "text/plain": [
       "Epoch 61/80 [Val]  :   0%|          | 0/8 [00:00<?, ?it/s]"
      ]
     },
     "metadata": {},
     "output_type": "display_data"
    },
    {
     "name": "stdout",
     "output_type": "stream",
     "text": [
      "Train Loss: 0.4401 | Train Acc: 85.31%\n",
      "Val Loss:   0.4308 | Val Acc:   86.22%\n"
     ]
    },
    {
     "data": {
      "application/vnd.jupyter.widget-view+json": {
       "model_id": "00b685ee04ac4672b64e2a9ebff4b95a",
       "version_major": 2,
       "version_minor": 0
      },
      "text/plain": [
       "Epoch 62/80 [Train]:   0%|          | 0/57 [00:00<?, ?it/s]"
      ]
     },
     "metadata": {},
     "output_type": "display_data"
    },
    {
     "data": {
      "application/vnd.jupyter.widget-view+json": {
       "model_id": "b1cc2620fe914ede99f8e270ab63a213",
       "version_major": 2,
       "version_minor": 0
      },
      "text/plain": [
       "Epoch 62/80 [Val]  :   0%|          | 0/8 [00:00<?, ?it/s]"
      ]
     },
     "metadata": {},
     "output_type": "display_data"
    },
    {
     "name": "stdout",
     "output_type": "stream",
     "text": [
      "Train Loss: 0.4400 | Train Acc: 84.92%\n",
      "Val Loss:   0.4233 | Val Acc:   86.44%\n"
     ]
    },
    {
     "data": {
      "application/vnd.jupyter.widget-view+json": {
       "model_id": "85f7000ff6c54019aac316032304260a",
       "version_major": 2,
       "version_minor": 0
      },
      "text/plain": [
       "Epoch 63/80 [Train]:   0%|          | 0/57 [00:00<?, ?it/s]"
      ]
     },
     "metadata": {},
     "output_type": "display_data"
    },
    {
     "data": {
      "application/vnd.jupyter.widget-view+json": {
       "model_id": "4be06826ba2341cdaa1a199d822e1a09",
       "version_major": 2,
       "version_minor": 0
      },
      "text/plain": [
       "Epoch 63/80 [Val]  :   0%|          | 0/8 [00:00<?, ?it/s]"
      ]
     },
     "metadata": {},
     "output_type": "display_data"
    },
    {
     "name": "stdout",
     "output_type": "stream",
     "text": [
      "Train Loss: 0.4383 | Train Acc: 85.43%\n",
      "Val Loss:   0.4350 | Val Acc:   85.56%\n"
     ]
    },
    {
     "data": {
      "application/vnd.jupyter.widget-view+json": {
       "model_id": "2f422956ec3a43a3bebf3bae773b62cc",
       "version_major": 2,
       "version_minor": 0
      },
      "text/plain": [
       "Epoch 64/80 [Train]:   0%|          | 0/57 [00:00<?, ?it/s]"
      ]
     },
     "metadata": {},
     "output_type": "display_data"
    },
    {
     "data": {
      "application/vnd.jupyter.widget-view+json": {
       "model_id": "3c1ed68bbae84d01bf61b51355c1c36a",
       "version_major": 2,
       "version_minor": 0
      },
      "text/plain": [
       "Epoch 64/80 [Val]  :   0%|          | 0/8 [00:00<?, ?it/s]"
      ]
     },
     "metadata": {},
     "output_type": "display_data"
    },
    {
     "name": "stdout",
     "output_type": "stream",
     "text": [
      "Train Loss: 0.4351 | Train Acc: 85.71%\n",
      "Val Loss:   0.4276 | Val Acc:   85.50%\n"
     ]
    },
    {
     "data": {
      "application/vnd.jupyter.widget-view+json": {
       "model_id": "1b086671b38e482ab7b004c8dbe57134",
       "version_major": 2,
       "version_minor": 0
      },
      "text/plain": [
       "Epoch 65/80 [Train]:   0%|          | 0/57 [00:00<?, ?it/s]"
      ]
     },
     "metadata": {},
     "output_type": "display_data"
    },
    {
     "data": {
      "application/vnd.jupyter.widget-view+json": {
       "model_id": "276e186cef7e420e82a6bfe84dfe1471",
       "version_major": 2,
       "version_minor": 0
      },
      "text/plain": [
       "Epoch 65/80 [Val]  :   0%|          | 0/8 [00:00<?, ?it/s]"
      ]
     },
     "metadata": {},
     "output_type": "display_data"
    },
    {
     "name": "stdout",
     "output_type": "stream",
     "text": [
      "Train Loss: 0.4385 | Train Acc: 85.08%\n",
      "Val Loss:   0.4233 | Val Acc:   86.94%\n"
     ]
    },
    {
     "data": {
      "application/vnd.jupyter.widget-view+json": {
       "model_id": "75413ed90d324103a06d4bc24f6ff5ab",
       "version_major": 2,
       "version_minor": 0
      },
      "text/plain": [
       "Epoch 66/80 [Train]:   0%|          | 0/57 [00:00<?, ?it/s]"
      ]
     },
     "metadata": {},
     "output_type": "display_data"
    },
    {
     "data": {
      "application/vnd.jupyter.widget-view+json": {
       "model_id": "166c142be11c47749a52d4dd4a956354",
       "version_major": 2,
       "version_minor": 0
      },
      "text/plain": [
       "Epoch 66/80 [Val]  :   0%|          | 0/8 [00:00<?, ?it/s]"
      ]
     },
     "metadata": {},
     "output_type": "display_data"
    },
    {
     "name": "stdout",
     "output_type": "stream",
     "text": [
      "Train Loss: 0.4404 | Train Acc: 85.14%\n",
      "Val Loss:   0.4255 | Val Acc:   86.94%\n"
     ]
    },
    {
     "data": {
      "application/vnd.jupyter.widget-view+json": {
       "model_id": "2ee75ab2c2b445e88ff4c394ee6f07b4",
       "version_major": 2,
       "version_minor": 0
      },
      "text/plain": [
       "Epoch 67/80 [Train]:   0%|          | 0/57 [00:00<?, ?it/s]"
      ]
     },
     "metadata": {},
     "output_type": "display_data"
    },
    {
     "data": {
      "application/vnd.jupyter.widget-view+json": {
       "model_id": "b0635268662843ccb56b27d4b9f7058d",
       "version_major": 2,
       "version_minor": 0
      },
      "text/plain": [
       "Epoch 67/80 [Val]  :   0%|          | 0/8 [00:00<?, ?it/s]"
      ]
     },
     "metadata": {},
     "output_type": "display_data"
    },
    {
     "name": "stdout",
     "output_type": "stream",
     "text": [
      "Train Loss: 0.4342 | Train Acc: 86.08%\n",
      "Val Loss:   0.4228 | Val Acc:   86.67%\n"
     ]
    },
    {
     "data": {
      "application/vnd.jupyter.widget-view+json": {
       "model_id": "665abd25ac674ac3ac656231c437e5f8",
       "version_major": 2,
       "version_minor": 0
      },
      "text/plain": [
       "Epoch 68/80 [Train]:   0%|          | 0/57 [00:00<?, ?it/s]"
      ]
     },
     "metadata": {},
     "output_type": "display_data"
    },
    {
     "data": {
      "application/vnd.jupyter.widget-view+json": {
       "model_id": "bdf7b19e3ade418b8f9d3ad950c40714",
       "version_major": 2,
       "version_minor": 0
      },
      "text/plain": [
       "Epoch 68/80 [Val]  :   0%|          | 0/8 [00:00<?, ?it/s]"
      ]
     },
     "metadata": {},
     "output_type": "display_data"
    },
    {
     "name": "stdout",
     "output_type": "stream",
     "text": [
      "Train Loss: 0.4377 | Train Acc: 85.53%\n",
      "Val Loss:   0.4289 | Val Acc:   86.06%\n"
     ]
    },
    {
     "data": {
      "application/vnd.jupyter.widget-view+json": {
       "model_id": "bfd331b86e064c418e5dbde74ac3bac2",
       "version_major": 2,
       "version_minor": 0
      },
      "text/plain": [
       "Epoch 69/80 [Train]:   0%|          | 0/57 [00:00<?, ?it/s]"
      ]
     },
     "metadata": {},
     "output_type": "display_data"
    },
    {
     "data": {
      "application/vnd.jupyter.widget-view+json": {
       "model_id": "f9882346d97b48deb8d72e113bc0de79",
       "version_major": 2,
       "version_minor": 0
      },
      "text/plain": [
       "Epoch 69/80 [Val]  :   0%|          | 0/8 [00:00<?, ?it/s]"
      ]
     },
     "metadata": {},
     "output_type": "display_data"
    },
    {
     "name": "stdout",
     "output_type": "stream",
     "text": [
      "Train Loss: 0.4356 | Train Acc: 85.61%\n",
      "Val Loss:   0.4241 | Val Acc:   86.61%\n"
     ]
    },
    {
     "data": {
      "application/vnd.jupyter.widget-view+json": {
       "model_id": "c10df86ace5243e2988f2dd002dbbd29",
       "version_major": 2,
       "version_minor": 0
      },
      "text/plain": [
       "Epoch 70/80 [Train]:   0%|          | 0/57 [00:00<?, ?it/s]"
      ]
     },
     "metadata": {},
     "output_type": "display_data"
    },
    {
     "data": {
      "application/vnd.jupyter.widget-view+json": {
       "model_id": "10a6c22d458343b3889b01c77390dd66",
       "version_major": 2,
       "version_minor": 0
      },
      "text/plain": [
       "Epoch 70/80 [Val]  :   0%|          | 0/8 [00:00<?, ?it/s]"
      ]
     },
     "metadata": {},
     "output_type": "display_data"
    },
    {
     "name": "stdout",
     "output_type": "stream",
     "text": [
      "Train Loss: 0.4375 | Train Acc: 85.25%\n",
      "Val Loss:   0.4274 | Val Acc:   85.89%\n"
     ]
    },
    {
     "data": {
      "application/vnd.jupyter.widget-view+json": {
       "model_id": "09460648bff4462a9a9a7c5e910a88f1",
       "version_major": 2,
       "version_minor": 0
      },
      "text/plain": [
       "Epoch 71/80 [Train]:   0%|          | 0/57 [00:00<?, ?it/s]"
      ]
     },
     "metadata": {},
     "output_type": "display_data"
    },
    {
     "data": {
      "application/vnd.jupyter.widget-view+json": {
       "model_id": "b452410128284ae5ae9b876e22f78ad3",
       "version_major": 2,
       "version_minor": 0
      },
      "text/plain": [
       "Epoch 71/80 [Val]  :   0%|          | 0/8 [00:00<?, ?it/s]"
      ]
     },
     "metadata": {},
     "output_type": "display_data"
    },
    {
     "name": "stdout",
     "output_type": "stream",
     "text": [
      "Train Loss: 0.4397 | Train Acc: 85.33%\n",
      "Val Loss:   0.4243 | Val Acc:   86.72%\n"
     ]
    },
    {
     "data": {
      "application/vnd.jupyter.widget-view+json": {
       "model_id": "1dd65f7b3e5b493c90b6c4d153777d97",
       "version_major": 2,
       "version_minor": 0
      },
      "text/plain": [
       "Epoch 72/80 [Train]:   0%|          | 0/57 [00:00<?, ?it/s]"
      ]
     },
     "metadata": {},
     "output_type": "display_data"
    },
    {
     "data": {
      "application/vnd.jupyter.widget-view+json": {
       "model_id": "29f30e66aa4e48f5b4e06e751f4ed771",
       "version_major": 2,
       "version_minor": 0
      },
      "text/plain": [
       "Epoch 72/80 [Val]  :   0%|          | 0/8 [00:00<?, ?it/s]"
      ]
     },
     "metadata": {},
     "output_type": "display_data"
    },
    {
     "name": "stdout",
     "output_type": "stream",
     "text": [
      "Train Loss: 0.4370 | Train Acc: 85.74%\n",
      "Val Loss:   0.4277 | Val Acc:   85.44%\n"
     ]
    },
    {
     "data": {
      "application/vnd.jupyter.widget-view+json": {
       "model_id": "ac8a86a4bf634cdcb35e57ce6d896a26",
       "version_major": 2,
       "version_minor": 0
      },
      "text/plain": [
       "Epoch 73/80 [Train]:   0%|          | 0/57 [00:00<?, ?it/s]"
      ]
     },
     "metadata": {},
     "output_type": "display_data"
    },
    {
     "data": {
      "application/vnd.jupyter.widget-view+json": {
       "model_id": "1d4c3c94fbf54e5b8749e96297d06473",
       "version_major": 2,
       "version_minor": 0
      },
      "text/plain": [
       "Epoch 73/80 [Val]  :   0%|          | 0/8 [00:00<?, ?it/s]"
      ]
     },
     "metadata": {},
     "output_type": "display_data"
    },
    {
     "name": "stdout",
     "output_type": "stream",
     "text": [
      "Train Loss: 0.4391 | Train Acc: 85.21%\n",
      "Val Loss:   0.4289 | Val Acc:   86.61%\n"
     ]
    },
    {
     "data": {
      "application/vnd.jupyter.widget-view+json": {
       "model_id": "4940efd179bd4db49ed5600ad7779eca",
       "version_major": 2,
       "version_minor": 0
      },
      "text/plain": [
       "Epoch 74/80 [Train]:   0%|          | 0/57 [00:00<?, ?it/s]"
      ]
     },
     "metadata": {},
     "output_type": "display_data"
    },
    {
     "data": {
      "application/vnd.jupyter.widget-view+json": {
       "model_id": "2ce51a2c735a4ed3954a479e11e77e08",
       "version_major": 2,
       "version_minor": 0
      },
      "text/plain": [
       "Epoch 74/80 [Val]  :   0%|          | 0/8 [00:00<?, ?it/s]"
      ]
     },
     "metadata": {},
     "output_type": "display_data"
    },
    {
     "name": "stdout",
     "output_type": "stream",
     "text": [
      "Train Loss: 0.4371 | Train Acc: 85.56%\n",
      "Val Loss:   0.4261 | Val Acc:   86.61%\n"
     ]
    },
    {
     "data": {
      "application/vnd.jupyter.widget-view+json": {
       "model_id": "5d151d3ac0464dcb97552e5cdf16d163",
       "version_major": 2,
       "version_minor": 0
      },
      "text/plain": [
       "Epoch 75/80 [Train]:   0%|          | 0/57 [00:00<?, ?it/s]"
      ]
     },
     "metadata": {},
     "output_type": "display_data"
    },
    {
     "data": {
      "application/vnd.jupyter.widget-view+json": {
       "model_id": "cc5490f0fa664c58bc84c51de79ed85a",
       "version_major": 2,
       "version_minor": 0
      },
      "text/plain": [
       "Epoch 75/80 [Val]  :   0%|          | 0/8 [00:00<?, ?it/s]"
      ]
     },
     "metadata": {},
     "output_type": "display_data"
    },
    {
     "name": "stdout",
     "output_type": "stream",
     "text": [
      "Train Loss: 0.4359 | Train Acc: 85.81%\n",
      "Val Loss:   0.4304 | Val Acc:   86.00%\n"
     ]
    },
    {
     "data": {
      "application/vnd.jupyter.widget-view+json": {
       "model_id": "6381fa795f994a2183e590a15468923c",
       "version_major": 2,
       "version_minor": 0
      },
      "text/plain": [
       "Epoch 76/80 [Train]:   0%|          | 0/57 [00:00<?, ?it/s]"
      ]
     },
     "metadata": {},
     "output_type": "display_data"
    },
    {
     "data": {
      "application/vnd.jupyter.widget-view+json": {
       "model_id": "4c1a57265ecd4d13a3c55a1982dc8eaa",
       "version_major": 2,
       "version_minor": 0
      },
      "text/plain": [
       "Epoch 76/80 [Val]  :   0%|          | 0/8 [00:00<?, ?it/s]"
      ]
     },
     "metadata": {},
     "output_type": "display_data"
    },
    {
     "name": "stdout",
     "output_type": "stream",
     "text": [
      "Train Loss: 0.4365 | Train Acc: 85.71%\n",
      "Val Loss:   0.4187 | Val Acc:   87.50%\n",
      "\u001b[32m[INFO] New best model! Val Acc: 87.50%. Saving...\u001b[0m\n"
     ]
    },
    {
     "data": {
      "application/vnd.jupyter.widget-view+json": {
       "model_id": "1945f0fca2b94a75be3c66ec4b19faf0",
       "version_major": 2,
       "version_minor": 0
      },
      "text/plain": [
       "Epoch 77/80 [Train]:   0%|          | 0/57 [00:00<?, ?it/s]"
      ]
     },
     "metadata": {},
     "output_type": "display_data"
    },
    {
     "data": {
      "application/vnd.jupyter.widget-view+json": {
       "model_id": "83852dc35aa74d3aa43196af00a8a362",
       "version_major": 2,
       "version_minor": 0
      },
      "text/plain": [
       "Epoch 77/80 [Val]  :   0%|          | 0/8 [00:00<?, ?it/s]"
      ]
     },
     "metadata": {},
     "output_type": "display_data"
    },
    {
     "name": "stdout",
     "output_type": "stream",
     "text": [
      "Train Loss: 0.4374 | Train Acc: 85.83%\n",
      "Val Loss:   0.4282 | Val Acc:   86.56%\n"
     ]
    },
    {
     "data": {
      "application/vnd.jupyter.widget-view+json": {
       "model_id": "d573e86f9dfa4d3cb3269e8d5eb17792",
       "version_major": 2,
       "version_minor": 0
      },
      "text/plain": [
       "Epoch 78/80 [Train]:   0%|          | 0/57 [00:00<?, ?it/s]"
      ]
     },
     "metadata": {},
     "output_type": "display_data"
    },
    {
     "data": {
      "application/vnd.jupyter.widget-view+json": {
       "model_id": "b8a5c3689673443d95b62cc368068be3",
       "version_major": 2,
       "version_minor": 0
      },
      "text/plain": [
       "Epoch 78/80 [Val]  :   0%|          | 0/8 [00:00<?, ?it/s]"
      ]
     },
     "metadata": {},
     "output_type": "display_data"
    },
    {
     "name": "stdout",
     "output_type": "stream",
     "text": [
      "Train Loss: 0.4364 | Train Acc: 86.01%\n",
      "Val Loss:   0.4248 | Val Acc:   86.83%\n"
     ]
    },
    {
     "data": {
      "application/vnd.jupyter.widget-view+json": {
       "model_id": "5bf0b5ded8ef4291b67a5feb415952f9",
       "version_major": 2,
       "version_minor": 0
      },
      "text/plain": [
       "Epoch 79/80 [Train]:   0%|          | 0/57 [00:00<?, ?it/s]"
      ]
     },
     "metadata": {},
     "output_type": "display_data"
    },
    {
     "data": {
      "application/vnd.jupyter.widget-view+json": {
       "model_id": "259a7fb5dbdc40dcbbfe1afe4d3e9780",
       "version_major": 2,
       "version_minor": 0
      },
      "text/plain": [
       "Epoch 79/80 [Val]  :   0%|          | 0/8 [00:00<?, ?it/s]"
      ]
     },
     "metadata": {},
     "output_type": "display_data"
    },
    {
     "name": "stdout",
     "output_type": "stream",
     "text": [
      "Train Loss: 0.4368 | Train Acc: 85.56%\n",
      "Val Loss:   0.4282 | Val Acc:   85.83%\n"
     ]
    },
    {
     "data": {
      "application/vnd.jupyter.widget-view+json": {
       "model_id": "480b2ced2a244e699af17781969143fc",
       "version_major": 2,
       "version_minor": 0
      },
      "text/plain": [
       "Epoch 80/80 [Train]:   0%|          | 0/57 [00:00<?, ?it/s]"
      ]
     },
     "metadata": {},
     "output_type": "display_data"
    },
    {
     "data": {
      "application/vnd.jupyter.widget-view+json": {
       "model_id": "f343ecbfdf6a4a6bb0eedc5a92a57897",
       "version_major": 2,
       "version_minor": 0
      },
      "text/plain": [
       "Epoch 80/80 [Val]  :   0%|          | 0/8 [00:00<?, ?it/s]"
      ]
     },
     "metadata": {},
     "output_type": "display_data"
    },
    {
     "name": "stdout",
     "output_type": "stream",
     "text": [
      "Train Loss: 0.4387 | Train Acc: 85.31%\n",
      "Val Loss:   0.4278 | Val Acc:   86.94%\n",
      "\u001b[1m\u001b[32m[INFO] Training finished.\u001b[0m\n",
      "\u001b[1m\u001b[32m[INFO] Distillation pipeline completed successfully.\u001b[0m\n",
      "\n",
      "Options:\n",
      " 1. Run full DISTILLATION pipeline\n",
      " 2. Demonstrate trained model\n",
      " 3. Fine-tune on REAL EEG data\n",
      " 4. Exit\n",
      "\u001b[1m\u001b[36m[INFO] Demonstrating model on newly generated signals...\u001b[0m\n",
      "\u001b[33m[INFO] Loading and augmenting tabular data with clearer class separation...\u001b[0m\n",
      "\u001b[1m\u001b[32m[INFO] Successfully generated 9000 hardened tabular samples.\u001b[0m\n",
      "\n",
      "--- Clinical Signal Demonstration (v79) ---\n",
      "\n",
      "True: healthy  | Predicted: healthy  | \u001b[32m✅ Correct\u001b[0m\n",
      "True: ptsd     | Predicted: ptsd     | \u001b[32m✅ Correct\u001b[0m\n",
      "True: schizo   | Predicted: schizo   | \u001b[32m✅ Correct\u001b[0m\n",
      "\n",
      "\n",
      "\n",
      "Options:\n",
      " 1. Run full DISTILLATION pipeline\n",
      " 2. Demonstrate trained model\n",
      " 3. Fine-tune on REAL EEG data\n",
      " 4. Exit\n",
      "Exiting...\n"
     ]
    }
   ],
   "source": [
    "# Block 8: Start the main interactive menu\n",
    "if __name__ == \"__main__\":\n",
    "    run_menu()"
   ]
  }
 ],
 "metadata": {
  "kernelspec": {
   "display_name": "Python 3",
   "language": "python",
   "name": "python3"
  },
  "language_info": {
   "codemirror_mode": {
    "name": "ipython",
    "version": 3
   },
   "file_extension": ".py",
   "mimetype": "text/x-python",
   "name": "python",
   "nbconvert_exporter": "python",
   "pygments_lexer": "ipython3",
   "version": "3.10.0"
  }
 },
 "nbformat": 4,
 "nbformat_minor": 5
}
